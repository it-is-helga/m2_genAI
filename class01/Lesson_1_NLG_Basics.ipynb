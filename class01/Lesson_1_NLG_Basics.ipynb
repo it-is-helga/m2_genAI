{
  "nbformat": 4,
  "nbformat_minor": 0,
  "metadata": {
    "colab": {
      "provenance": [],
      "gpuType": "T4",
      "include_colab_link": true
    },
    "kernelspec": {
      "name": "python3",
      "display_name": "Python 3"
    },
    "language_info": {
      "name": "python"
    },
    "accelerator": "GPU",
    "widgets": {
      "application/vnd.jupyter.widget-state+json": {
        "dab8448a8c96482182bc7e7c0b6c4602": {
          "model_module": "@jupyter-widgets/controls",
          "model_name": "HBoxModel",
          "model_module_version": "1.5.0",
          "state": {
            "_dom_classes": [],
            "_model_module": "@jupyter-widgets/controls",
            "_model_module_version": "1.5.0",
            "_model_name": "HBoxModel",
            "_view_count": null,
            "_view_module": "@jupyter-widgets/controls",
            "_view_module_version": "1.5.0",
            "_view_name": "HBoxView",
            "box_style": "",
            "children": [
              "IPY_MODEL_34209625a9d5468d93d30fec810f7aba",
              "IPY_MODEL_3c0f4d1fe8554a6eb9d258a65370019f",
              "IPY_MODEL_58f3d169a5b6413099d201e96eff99bf"
            ],
            "layout": "IPY_MODEL_06a320283f504d3f9a9e087c70f75846"
          }
        },
        "34209625a9d5468d93d30fec810f7aba": {
          "model_module": "@jupyter-widgets/controls",
          "model_name": "HTMLModel",
          "model_module_version": "1.5.0",
          "state": {
            "_dom_classes": [],
            "_model_module": "@jupyter-widgets/controls",
            "_model_module_version": "1.5.0",
            "_model_name": "HTMLModel",
            "_view_count": null,
            "_view_module": "@jupyter-widgets/controls",
            "_view_module_version": "1.5.0",
            "_view_name": "HTMLView",
            "description": "",
            "description_tooltip": null,
            "layout": "IPY_MODEL_35d9aa710e6f4b118cb1d30f0e7aca26",
            "placeholder": "​",
            "style": "IPY_MODEL_1c9354a822234d76834a5a0ad7263c5b",
            "value": "Map: 100%"
          }
        },
        "3c0f4d1fe8554a6eb9d258a65370019f": {
          "model_module": "@jupyter-widgets/controls",
          "model_name": "FloatProgressModel",
          "model_module_version": "1.5.0",
          "state": {
            "_dom_classes": [],
            "_model_module": "@jupyter-widgets/controls",
            "_model_module_version": "1.5.0",
            "_model_name": "FloatProgressModel",
            "_view_count": null,
            "_view_module": "@jupyter-widgets/controls",
            "_view_module_version": "1.5.0",
            "_view_name": "ProgressView",
            "bar_style": "success",
            "description": "",
            "description_tooltip": null,
            "layout": "IPY_MODEL_f3906a7aedff4376868c8c24a532f633",
            "max": 13211,
            "min": 0,
            "orientation": "horizontal",
            "style": "IPY_MODEL_0f3f524d3fb44f2084815291f2e53d2d",
            "value": 13211
          }
        },
        "58f3d169a5b6413099d201e96eff99bf": {
          "model_module": "@jupyter-widgets/controls",
          "model_name": "HTMLModel",
          "model_module_version": "1.5.0",
          "state": {
            "_dom_classes": [],
            "_model_module": "@jupyter-widgets/controls",
            "_model_module_version": "1.5.0",
            "_model_name": "HTMLModel",
            "_view_count": null,
            "_view_module": "@jupyter-widgets/controls",
            "_view_module_version": "1.5.0",
            "_view_name": "HTMLView",
            "description": "",
            "description_tooltip": null,
            "layout": "IPY_MODEL_1249b6f944d64918ab85f4a7651f107d",
            "placeholder": "​",
            "style": "IPY_MODEL_07a01c4b7515496da70285c9ebdda962",
            "value": " 13211/13211 [00:07&lt;00:00, 1271.83 examples/s]"
          }
        },
        "06a320283f504d3f9a9e087c70f75846": {
          "model_module": "@jupyter-widgets/base",
          "model_name": "LayoutModel",
          "model_module_version": "1.2.0",
          "state": {
            "_model_module": "@jupyter-widgets/base",
            "_model_module_version": "1.2.0",
            "_model_name": "LayoutModel",
            "_view_count": null,
            "_view_module": "@jupyter-widgets/base",
            "_view_module_version": "1.2.0",
            "_view_name": "LayoutView",
            "align_content": null,
            "align_items": null,
            "align_self": null,
            "border": null,
            "bottom": null,
            "display": null,
            "flex": null,
            "flex_flow": null,
            "grid_area": null,
            "grid_auto_columns": null,
            "grid_auto_flow": null,
            "grid_auto_rows": null,
            "grid_column": null,
            "grid_gap": null,
            "grid_row": null,
            "grid_template_areas": null,
            "grid_template_columns": null,
            "grid_template_rows": null,
            "height": null,
            "justify_content": null,
            "justify_items": null,
            "left": null,
            "margin": null,
            "max_height": null,
            "max_width": null,
            "min_height": null,
            "min_width": null,
            "object_fit": null,
            "object_position": null,
            "order": null,
            "overflow": null,
            "overflow_x": null,
            "overflow_y": null,
            "padding": null,
            "right": null,
            "top": null,
            "visibility": null,
            "width": null
          }
        },
        "35d9aa710e6f4b118cb1d30f0e7aca26": {
          "model_module": "@jupyter-widgets/base",
          "model_name": "LayoutModel",
          "model_module_version": "1.2.0",
          "state": {
            "_model_module": "@jupyter-widgets/base",
            "_model_module_version": "1.2.0",
            "_model_name": "LayoutModel",
            "_view_count": null,
            "_view_module": "@jupyter-widgets/base",
            "_view_module_version": "1.2.0",
            "_view_name": "LayoutView",
            "align_content": null,
            "align_items": null,
            "align_self": null,
            "border": null,
            "bottom": null,
            "display": null,
            "flex": null,
            "flex_flow": null,
            "grid_area": null,
            "grid_auto_columns": null,
            "grid_auto_flow": null,
            "grid_auto_rows": null,
            "grid_column": null,
            "grid_gap": null,
            "grid_row": null,
            "grid_template_areas": null,
            "grid_template_columns": null,
            "grid_template_rows": null,
            "height": null,
            "justify_content": null,
            "justify_items": null,
            "left": null,
            "margin": null,
            "max_height": null,
            "max_width": null,
            "min_height": null,
            "min_width": null,
            "object_fit": null,
            "object_position": null,
            "order": null,
            "overflow": null,
            "overflow_x": null,
            "overflow_y": null,
            "padding": null,
            "right": null,
            "top": null,
            "visibility": null,
            "width": null
          }
        },
        "1c9354a822234d76834a5a0ad7263c5b": {
          "model_module": "@jupyter-widgets/controls",
          "model_name": "DescriptionStyleModel",
          "model_module_version": "1.5.0",
          "state": {
            "_model_module": "@jupyter-widgets/controls",
            "_model_module_version": "1.5.0",
            "_model_name": "DescriptionStyleModel",
            "_view_count": null,
            "_view_module": "@jupyter-widgets/base",
            "_view_module_version": "1.2.0",
            "_view_name": "StyleView",
            "description_width": ""
          }
        },
        "f3906a7aedff4376868c8c24a532f633": {
          "model_module": "@jupyter-widgets/base",
          "model_name": "LayoutModel",
          "model_module_version": "1.2.0",
          "state": {
            "_model_module": "@jupyter-widgets/base",
            "_model_module_version": "1.2.0",
            "_model_name": "LayoutModel",
            "_view_count": null,
            "_view_module": "@jupyter-widgets/base",
            "_view_module_version": "1.2.0",
            "_view_name": "LayoutView",
            "align_content": null,
            "align_items": null,
            "align_self": null,
            "border": null,
            "bottom": null,
            "display": null,
            "flex": null,
            "flex_flow": null,
            "grid_area": null,
            "grid_auto_columns": null,
            "grid_auto_flow": null,
            "grid_auto_rows": null,
            "grid_column": null,
            "grid_gap": null,
            "grid_row": null,
            "grid_template_areas": null,
            "grid_template_columns": null,
            "grid_template_rows": null,
            "height": null,
            "justify_content": null,
            "justify_items": null,
            "left": null,
            "margin": null,
            "max_height": null,
            "max_width": null,
            "min_height": null,
            "min_width": null,
            "object_fit": null,
            "object_position": null,
            "order": null,
            "overflow": null,
            "overflow_x": null,
            "overflow_y": null,
            "padding": null,
            "right": null,
            "top": null,
            "visibility": null,
            "width": null
          }
        },
        "0f3f524d3fb44f2084815291f2e53d2d": {
          "model_module": "@jupyter-widgets/controls",
          "model_name": "ProgressStyleModel",
          "model_module_version": "1.5.0",
          "state": {
            "_model_module": "@jupyter-widgets/controls",
            "_model_module_version": "1.5.0",
            "_model_name": "ProgressStyleModel",
            "_view_count": null,
            "_view_module": "@jupyter-widgets/base",
            "_view_module_version": "1.2.0",
            "_view_name": "StyleView",
            "bar_color": null,
            "description_width": ""
          }
        },
        "1249b6f944d64918ab85f4a7651f107d": {
          "model_module": "@jupyter-widgets/base",
          "model_name": "LayoutModel",
          "model_module_version": "1.2.0",
          "state": {
            "_model_module": "@jupyter-widgets/base",
            "_model_module_version": "1.2.0",
            "_model_name": "LayoutModel",
            "_view_count": null,
            "_view_module": "@jupyter-widgets/base",
            "_view_module_version": "1.2.0",
            "_view_name": "LayoutView",
            "align_content": null,
            "align_items": null,
            "align_self": null,
            "border": null,
            "bottom": null,
            "display": null,
            "flex": null,
            "flex_flow": null,
            "grid_area": null,
            "grid_auto_columns": null,
            "grid_auto_flow": null,
            "grid_auto_rows": null,
            "grid_column": null,
            "grid_gap": null,
            "grid_row": null,
            "grid_template_areas": null,
            "grid_template_columns": null,
            "grid_template_rows": null,
            "height": null,
            "justify_content": null,
            "justify_items": null,
            "left": null,
            "margin": null,
            "max_height": null,
            "max_width": null,
            "min_height": null,
            "min_width": null,
            "object_fit": null,
            "object_position": null,
            "order": null,
            "overflow": null,
            "overflow_x": null,
            "overflow_y": null,
            "padding": null,
            "right": null,
            "top": null,
            "visibility": null,
            "width": null
          }
        },
        "07a01c4b7515496da70285c9ebdda962": {
          "model_module": "@jupyter-widgets/controls",
          "model_name": "DescriptionStyleModel",
          "model_module_version": "1.5.0",
          "state": {
            "_model_module": "@jupyter-widgets/controls",
            "_model_module_version": "1.5.0",
            "_model_name": "DescriptionStyleModel",
            "_view_count": null,
            "_view_module": "@jupyter-widgets/base",
            "_view_module_version": "1.2.0",
            "_view_name": "StyleView",
            "description_width": ""
          }
        },
        "09b66b38e5bf4c19b4a90cd0b845c190": {
          "model_module": "@jupyter-widgets/controls",
          "model_name": "HBoxModel",
          "model_module_version": "1.5.0",
          "state": {
            "_dom_classes": [],
            "_model_module": "@jupyter-widgets/controls",
            "_model_module_version": "1.5.0",
            "_model_name": "HBoxModel",
            "_view_count": null,
            "_view_module": "@jupyter-widgets/controls",
            "_view_module_version": "1.5.0",
            "_view_name": "HBoxView",
            "box_style": "",
            "children": [
              "IPY_MODEL_021e6bb101a747bdaafe533bb4ad1976",
              "IPY_MODEL_0775fedbacda4e72813bc64588fc346a",
              "IPY_MODEL_3d85f415fd154773937ec852266adf0e"
            ],
            "layout": "IPY_MODEL_3506d75074cf4af1b0bbfb2d461c12fc"
          }
        },
        "021e6bb101a747bdaafe533bb4ad1976": {
          "model_module": "@jupyter-widgets/controls",
          "model_name": "HTMLModel",
          "model_module_version": "1.5.0",
          "state": {
            "_dom_classes": [],
            "_model_module": "@jupyter-widgets/controls",
            "_model_module_version": "1.5.0",
            "_model_name": "HTMLModel",
            "_view_count": null,
            "_view_module": "@jupyter-widgets/controls",
            "_view_module_version": "1.5.0",
            "_view_name": "HTMLView",
            "description": "",
            "description_tooltip": null,
            "layout": "IPY_MODEL_ef832b53d7fb42ee8a30c7d6ff49c0f5",
            "placeholder": "​",
            "style": "IPY_MODEL_3ebf5ecae21d4eea8bacf89c1e92e2b0",
            "value": "Map: 100%"
          }
        },
        "0775fedbacda4e72813bc64588fc346a": {
          "model_module": "@jupyter-widgets/controls",
          "model_name": "FloatProgressModel",
          "model_module_version": "1.5.0",
          "state": {
            "_dom_classes": [],
            "_model_module": "@jupyter-widgets/controls",
            "_model_module_version": "1.5.0",
            "_model_name": "FloatProgressModel",
            "_view_count": null,
            "_view_module": "@jupyter-widgets/controls",
            "_view_module_version": "1.5.0",
            "_view_name": "ProgressView",
            "bar_style": "success",
            "description": "",
            "description_tooltip": null,
            "layout": "IPY_MODEL_120c8e31d5e64b1c8ad74e8a531b2c31",
            "max": 1667,
            "min": 0,
            "orientation": "horizontal",
            "style": "IPY_MODEL_cd4272f44bdc48e98c2e058dfe4ef838",
            "value": 1667
          }
        },
        "3d85f415fd154773937ec852266adf0e": {
          "model_module": "@jupyter-widgets/controls",
          "model_name": "HTMLModel",
          "model_module_version": "1.5.0",
          "state": {
            "_dom_classes": [],
            "_model_module": "@jupyter-widgets/controls",
            "_model_module_version": "1.5.0",
            "_model_name": "HTMLModel",
            "_view_count": null,
            "_view_module": "@jupyter-widgets/controls",
            "_view_module_version": "1.5.0",
            "_view_name": "HTMLView",
            "description": "",
            "description_tooltip": null,
            "layout": "IPY_MODEL_05b1b9514c6649f48616386a9b529f51",
            "placeholder": "​",
            "style": "IPY_MODEL_9338950e135c45a88ba01337819448c1",
            "value": " 1667/1667 [00:01&lt;00:00, 1399.12 examples/s]"
          }
        },
        "3506d75074cf4af1b0bbfb2d461c12fc": {
          "model_module": "@jupyter-widgets/base",
          "model_name": "LayoutModel",
          "model_module_version": "1.2.0",
          "state": {
            "_model_module": "@jupyter-widgets/base",
            "_model_module_version": "1.2.0",
            "_model_name": "LayoutModel",
            "_view_count": null,
            "_view_module": "@jupyter-widgets/base",
            "_view_module_version": "1.2.0",
            "_view_name": "LayoutView",
            "align_content": null,
            "align_items": null,
            "align_self": null,
            "border": null,
            "bottom": null,
            "display": null,
            "flex": null,
            "flex_flow": null,
            "grid_area": null,
            "grid_auto_columns": null,
            "grid_auto_flow": null,
            "grid_auto_rows": null,
            "grid_column": null,
            "grid_gap": null,
            "grid_row": null,
            "grid_template_areas": null,
            "grid_template_columns": null,
            "grid_template_rows": null,
            "height": null,
            "justify_content": null,
            "justify_items": null,
            "left": null,
            "margin": null,
            "max_height": null,
            "max_width": null,
            "min_height": null,
            "min_width": null,
            "object_fit": null,
            "object_position": null,
            "order": null,
            "overflow": null,
            "overflow_x": null,
            "overflow_y": null,
            "padding": null,
            "right": null,
            "top": null,
            "visibility": null,
            "width": null
          }
        },
        "ef832b53d7fb42ee8a30c7d6ff49c0f5": {
          "model_module": "@jupyter-widgets/base",
          "model_name": "LayoutModel",
          "model_module_version": "1.2.0",
          "state": {
            "_model_module": "@jupyter-widgets/base",
            "_model_module_version": "1.2.0",
            "_model_name": "LayoutModel",
            "_view_count": null,
            "_view_module": "@jupyter-widgets/base",
            "_view_module_version": "1.2.0",
            "_view_name": "LayoutView",
            "align_content": null,
            "align_items": null,
            "align_self": null,
            "border": null,
            "bottom": null,
            "display": null,
            "flex": null,
            "flex_flow": null,
            "grid_area": null,
            "grid_auto_columns": null,
            "grid_auto_flow": null,
            "grid_auto_rows": null,
            "grid_column": null,
            "grid_gap": null,
            "grid_row": null,
            "grid_template_areas": null,
            "grid_template_columns": null,
            "grid_template_rows": null,
            "height": null,
            "justify_content": null,
            "justify_items": null,
            "left": null,
            "margin": null,
            "max_height": null,
            "max_width": null,
            "min_height": null,
            "min_width": null,
            "object_fit": null,
            "object_position": null,
            "order": null,
            "overflow": null,
            "overflow_x": null,
            "overflow_y": null,
            "padding": null,
            "right": null,
            "top": null,
            "visibility": null,
            "width": null
          }
        },
        "3ebf5ecae21d4eea8bacf89c1e92e2b0": {
          "model_module": "@jupyter-widgets/controls",
          "model_name": "DescriptionStyleModel",
          "model_module_version": "1.5.0",
          "state": {
            "_model_module": "@jupyter-widgets/controls",
            "_model_module_version": "1.5.0",
            "_model_name": "DescriptionStyleModel",
            "_view_count": null,
            "_view_module": "@jupyter-widgets/base",
            "_view_module_version": "1.2.0",
            "_view_name": "StyleView",
            "description_width": ""
          }
        },
        "120c8e31d5e64b1c8ad74e8a531b2c31": {
          "model_module": "@jupyter-widgets/base",
          "model_name": "LayoutModel",
          "model_module_version": "1.2.0",
          "state": {
            "_model_module": "@jupyter-widgets/base",
            "_model_module_version": "1.2.0",
            "_model_name": "LayoutModel",
            "_view_count": null,
            "_view_module": "@jupyter-widgets/base",
            "_view_module_version": "1.2.0",
            "_view_name": "LayoutView",
            "align_content": null,
            "align_items": null,
            "align_self": null,
            "border": null,
            "bottom": null,
            "display": null,
            "flex": null,
            "flex_flow": null,
            "grid_area": null,
            "grid_auto_columns": null,
            "grid_auto_flow": null,
            "grid_auto_rows": null,
            "grid_column": null,
            "grid_gap": null,
            "grid_row": null,
            "grid_template_areas": null,
            "grid_template_columns": null,
            "grid_template_rows": null,
            "height": null,
            "justify_content": null,
            "justify_items": null,
            "left": null,
            "margin": null,
            "max_height": null,
            "max_width": null,
            "min_height": null,
            "min_width": null,
            "object_fit": null,
            "object_position": null,
            "order": null,
            "overflow": null,
            "overflow_x": null,
            "overflow_y": null,
            "padding": null,
            "right": null,
            "top": null,
            "visibility": null,
            "width": null
          }
        },
        "cd4272f44bdc48e98c2e058dfe4ef838": {
          "model_module": "@jupyter-widgets/controls",
          "model_name": "ProgressStyleModel",
          "model_module_version": "1.5.0",
          "state": {
            "_model_module": "@jupyter-widgets/controls",
            "_model_module_version": "1.5.0",
            "_model_name": "ProgressStyleModel",
            "_view_count": null,
            "_view_module": "@jupyter-widgets/base",
            "_view_module_version": "1.2.0",
            "_view_name": "StyleView",
            "bar_color": null,
            "description_width": ""
          }
        },
        "05b1b9514c6649f48616386a9b529f51": {
          "model_module": "@jupyter-widgets/base",
          "model_name": "LayoutModel",
          "model_module_version": "1.2.0",
          "state": {
            "_model_module": "@jupyter-widgets/base",
            "_model_module_version": "1.2.0",
            "_model_name": "LayoutModel",
            "_view_count": null,
            "_view_module": "@jupyter-widgets/base",
            "_view_module_version": "1.2.0",
            "_view_name": "LayoutView",
            "align_content": null,
            "align_items": null,
            "align_self": null,
            "border": null,
            "bottom": null,
            "display": null,
            "flex": null,
            "flex_flow": null,
            "grid_area": null,
            "grid_auto_columns": null,
            "grid_auto_flow": null,
            "grid_auto_rows": null,
            "grid_column": null,
            "grid_gap": null,
            "grid_row": null,
            "grid_template_areas": null,
            "grid_template_columns": null,
            "grid_template_rows": null,
            "height": null,
            "justify_content": null,
            "justify_items": null,
            "left": null,
            "margin": null,
            "max_height": null,
            "max_width": null,
            "min_height": null,
            "min_width": null,
            "object_fit": null,
            "object_position": null,
            "order": null,
            "overflow": null,
            "overflow_x": null,
            "overflow_y": null,
            "padding": null,
            "right": null,
            "top": null,
            "visibility": null,
            "width": null
          }
        },
        "9338950e135c45a88ba01337819448c1": {
          "model_module": "@jupyter-widgets/controls",
          "model_name": "DescriptionStyleModel",
          "model_module_version": "1.5.0",
          "state": {
            "_model_module": "@jupyter-widgets/controls",
            "_model_module_version": "1.5.0",
            "_model_name": "DescriptionStyleModel",
            "_view_count": null,
            "_view_module": "@jupyter-widgets/base",
            "_view_module_version": "1.2.0",
            "_view_name": "StyleView",
            "description_width": ""
          }
        },
        "420647245b544faf80f3b98f1b47c0e2": {
          "model_module": "@jupyter-widgets/controls",
          "model_name": "HBoxModel",
          "model_module_version": "1.5.0",
          "state": {
            "_dom_classes": [],
            "_model_module": "@jupyter-widgets/controls",
            "_model_module_version": "1.5.0",
            "_model_name": "HBoxModel",
            "_view_count": null,
            "_view_module": "@jupyter-widgets/controls",
            "_view_module_version": "1.5.0",
            "_view_name": "HBoxView",
            "box_style": "",
            "children": [
              "IPY_MODEL_9e83c114ae55405a93ec71c32c7ca92e",
              "IPY_MODEL_2491267dd2f74ee49aee5d15159fc8f4",
              "IPY_MODEL_2953c9dfacb14a78ac87309a5754038b"
            ],
            "layout": "IPY_MODEL_60b4aab22c1141d0ab87705e494f4515"
          }
        },
        "9e83c114ae55405a93ec71c32c7ca92e": {
          "model_module": "@jupyter-widgets/controls",
          "model_name": "HTMLModel",
          "model_module_version": "1.5.0",
          "state": {
            "_dom_classes": [],
            "_model_module": "@jupyter-widgets/controls",
            "_model_module_version": "1.5.0",
            "_model_name": "HTMLModel",
            "_view_count": null,
            "_view_module": "@jupyter-widgets/controls",
            "_view_module_version": "1.5.0",
            "_view_name": "HTMLView",
            "description": "",
            "description_tooltip": null,
            "layout": "IPY_MODEL_ee26c9596fa74c618ed29fb821383a67",
            "placeholder": "​",
            "style": "IPY_MODEL_6cdd8a9d714f44379dde5be2a3329d0f",
            "value": "Map: 100%"
          }
        },
        "2491267dd2f74ee49aee5d15159fc8f4": {
          "model_module": "@jupyter-widgets/controls",
          "model_name": "FloatProgressModel",
          "model_module_version": "1.5.0",
          "state": {
            "_dom_classes": [],
            "_model_module": "@jupyter-widgets/controls",
            "_model_module_version": "1.5.0",
            "_model_name": "FloatProgressModel",
            "_view_count": null,
            "_view_module": "@jupyter-widgets/controls",
            "_view_module_version": "1.5.0",
            "_view_name": "ProgressView",
            "bar_style": "success",
            "description": "",
            "description_tooltip": null,
            "layout": "IPY_MODEL_76b7a0d376f649cc8151aa5a0c73a66c",
            "max": 5713,
            "min": 0,
            "orientation": "horizontal",
            "style": "IPY_MODEL_cbe0a90fee98425d9aa75701d415af96",
            "value": 5713
          }
        },
        "2953c9dfacb14a78ac87309a5754038b": {
          "model_module": "@jupyter-widgets/controls",
          "model_name": "HTMLModel",
          "model_module_version": "1.5.0",
          "state": {
            "_dom_classes": [],
            "_model_module": "@jupyter-widgets/controls",
            "_model_module_version": "1.5.0",
            "_model_name": "HTMLModel",
            "_view_count": null,
            "_view_module": "@jupyter-widgets/controls",
            "_view_module_version": "1.5.0",
            "_view_name": "HTMLView",
            "description": "",
            "description_tooltip": null,
            "layout": "IPY_MODEL_644f9e855483478e8ae43e364f82b751",
            "placeholder": "​",
            "style": "IPY_MODEL_867d070b6e704a2796831a0037571936",
            "value": " 5713/5713 [00:02&lt;00:00, 3471.48 examples/s]"
          }
        },
        "60b4aab22c1141d0ab87705e494f4515": {
          "model_module": "@jupyter-widgets/base",
          "model_name": "LayoutModel",
          "model_module_version": "1.2.0",
          "state": {
            "_model_module": "@jupyter-widgets/base",
            "_model_module_version": "1.2.0",
            "_model_name": "LayoutModel",
            "_view_count": null,
            "_view_module": "@jupyter-widgets/base",
            "_view_module_version": "1.2.0",
            "_view_name": "LayoutView",
            "align_content": null,
            "align_items": null,
            "align_self": null,
            "border": null,
            "bottom": null,
            "display": null,
            "flex": null,
            "flex_flow": null,
            "grid_area": null,
            "grid_auto_columns": null,
            "grid_auto_flow": null,
            "grid_auto_rows": null,
            "grid_column": null,
            "grid_gap": null,
            "grid_row": null,
            "grid_template_areas": null,
            "grid_template_columns": null,
            "grid_template_rows": null,
            "height": null,
            "justify_content": null,
            "justify_items": null,
            "left": null,
            "margin": null,
            "max_height": null,
            "max_width": null,
            "min_height": null,
            "min_width": null,
            "object_fit": null,
            "object_position": null,
            "order": null,
            "overflow": null,
            "overflow_x": null,
            "overflow_y": null,
            "padding": null,
            "right": null,
            "top": null,
            "visibility": null,
            "width": null
          }
        },
        "ee26c9596fa74c618ed29fb821383a67": {
          "model_module": "@jupyter-widgets/base",
          "model_name": "LayoutModel",
          "model_module_version": "1.2.0",
          "state": {
            "_model_module": "@jupyter-widgets/base",
            "_model_module_version": "1.2.0",
            "_model_name": "LayoutModel",
            "_view_count": null,
            "_view_module": "@jupyter-widgets/base",
            "_view_module_version": "1.2.0",
            "_view_name": "LayoutView",
            "align_content": null,
            "align_items": null,
            "align_self": null,
            "border": null,
            "bottom": null,
            "display": null,
            "flex": null,
            "flex_flow": null,
            "grid_area": null,
            "grid_auto_columns": null,
            "grid_auto_flow": null,
            "grid_auto_rows": null,
            "grid_column": null,
            "grid_gap": null,
            "grid_row": null,
            "grid_template_areas": null,
            "grid_template_columns": null,
            "grid_template_rows": null,
            "height": null,
            "justify_content": null,
            "justify_items": null,
            "left": null,
            "margin": null,
            "max_height": null,
            "max_width": null,
            "min_height": null,
            "min_width": null,
            "object_fit": null,
            "object_position": null,
            "order": null,
            "overflow": null,
            "overflow_x": null,
            "overflow_y": null,
            "padding": null,
            "right": null,
            "top": null,
            "visibility": null,
            "width": null
          }
        },
        "6cdd8a9d714f44379dde5be2a3329d0f": {
          "model_module": "@jupyter-widgets/controls",
          "model_name": "DescriptionStyleModel",
          "model_module_version": "1.5.0",
          "state": {
            "_model_module": "@jupyter-widgets/controls",
            "_model_module_version": "1.5.0",
            "_model_name": "DescriptionStyleModel",
            "_view_count": null,
            "_view_module": "@jupyter-widgets/base",
            "_view_module_version": "1.2.0",
            "_view_name": "StyleView",
            "description_width": ""
          }
        },
        "76b7a0d376f649cc8151aa5a0c73a66c": {
          "model_module": "@jupyter-widgets/base",
          "model_name": "LayoutModel",
          "model_module_version": "1.2.0",
          "state": {
            "_model_module": "@jupyter-widgets/base",
            "_model_module_version": "1.2.0",
            "_model_name": "LayoutModel",
            "_view_count": null,
            "_view_module": "@jupyter-widgets/base",
            "_view_module_version": "1.2.0",
            "_view_name": "LayoutView",
            "align_content": null,
            "align_items": null,
            "align_self": null,
            "border": null,
            "bottom": null,
            "display": null,
            "flex": null,
            "flex_flow": null,
            "grid_area": null,
            "grid_auto_columns": null,
            "grid_auto_flow": null,
            "grid_auto_rows": null,
            "grid_column": null,
            "grid_gap": null,
            "grid_row": null,
            "grid_template_areas": null,
            "grid_template_columns": null,
            "grid_template_rows": null,
            "height": null,
            "justify_content": null,
            "justify_items": null,
            "left": null,
            "margin": null,
            "max_height": null,
            "max_width": null,
            "min_height": null,
            "min_width": null,
            "object_fit": null,
            "object_position": null,
            "order": null,
            "overflow": null,
            "overflow_x": null,
            "overflow_y": null,
            "padding": null,
            "right": null,
            "top": null,
            "visibility": null,
            "width": null
          }
        },
        "cbe0a90fee98425d9aa75701d415af96": {
          "model_module": "@jupyter-widgets/controls",
          "model_name": "ProgressStyleModel",
          "model_module_version": "1.5.0",
          "state": {
            "_model_module": "@jupyter-widgets/controls",
            "_model_module_version": "1.5.0",
            "_model_name": "ProgressStyleModel",
            "_view_count": null,
            "_view_module": "@jupyter-widgets/base",
            "_view_module_version": "1.2.0",
            "_view_name": "StyleView",
            "bar_color": null,
            "description_width": ""
          }
        },
        "644f9e855483478e8ae43e364f82b751": {
          "model_module": "@jupyter-widgets/base",
          "model_name": "LayoutModel",
          "model_module_version": "1.2.0",
          "state": {
            "_model_module": "@jupyter-widgets/base",
            "_model_module_version": "1.2.0",
            "_model_name": "LayoutModel",
            "_view_count": null,
            "_view_module": "@jupyter-widgets/base",
            "_view_module_version": "1.2.0",
            "_view_name": "LayoutView",
            "align_content": null,
            "align_items": null,
            "align_self": null,
            "border": null,
            "bottom": null,
            "display": null,
            "flex": null,
            "flex_flow": null,
            "grid_area": null,
            "grid_auto_columns": null,
            "grid_auto_flow": null,
            "grid_auto_rows": null,
            "grid_column": null,
            "grid_gap": null,
            "grid_row": null,
            "grid_template_areas": null,
            "grid_template_columns": null,
            "grid_template_rows": null,
            "height": null,
            "justify_content": null,
            "justify_items": null,
            "left": null,
            "margin": null,
            "max_height": null,
            "max_width": null,
            "min_height": null,
            "min_width": null,
            "object_fit": null,
            "object_position": null,
            "order": null,
            "overflow": null,
            "overflow_x": null,
            "overflow_y": null,
            "padding": null,
            "right": null,
            "top": null,
            "visibility": null,
            "width": null
          }
        },
        "867d070b6e704a2796831a0037571936": {
          "model_module": "@jupyter-widgets/controls",
          "model_name": "DescriptionStyleModel",
          "model_module_version": "1.5.0",
          "state": {
            "_model_module": "@jupyter-widgets/controls",
            "_model_module_version": "1.5.0",
            "_model_name": "DescriptionStyleModel",
            "_view_count": null,
            "_view_module": "@jupyter-widgets/base",
            "_view_module_version": "1.2.0",
            "_view_name": "StyleView",
            "description_width": ""
          }
        },
        "86cfa04a71b34b398e7223bdbbf6068e": {
          "model_module": "@jupyter-widgets/controls",
          "model_name": "HBoxModel",
          "model_module_version": "1.5.0",
          "state": {
            "_dom_classes": [],
            "_model_module": "@jupyter-widgets/controls",
            "_model_module_version": "1.5.0",
            "_model_name": "HBoxModel",
            "_view_count": null,
            "_view_module": "@jupyter-widgets/controls",
            "_view_module_version": "1.5.0",
            "_view_name": "HBoxView",
            "box_style": "",
            "children": [
              "IPY_MODEL_9eb1a0522c794dd4b264d454aeed37b5",
              "IPY_MODEL_47e2a748dcc9401684fc81bd70d81194",
              "IPY_MODEL_a8128d1d68dc43649847404819362c92"
            ],
            "layout": "IPY_MODEL_68ef16a46fe34c69aadeb23c616821d8"
          }
        },
        "9eb1a0522c794dd4b264d454aeed37b5": {
          "model_module": "@jupyter-widgets/controls",
          "model_name": "HTMLModel",
          "model_module_version": "1.5.0",
          "state": {
            "_dom_classes": [],
            "_model_module": "@jupyter-widgets/controls",
            "_model_module_version": "1.5.0",
            "_model_name": "HTMLModel",
            "_view_count": null,
            "_view_module": "@jupyter-widgets/controls",
            "_view_module_version": "1.5.0",
            "_view_name": "HTMLView",
            "description": "",
            "description_tooltip": null,
            "layout": "IPY_MODEL_8aeff2df1b134651850bcbe0bbe12302",
            "placeholder": "​",
            "style": "IPY_MODEL_d56e60b141e2432cb90bc89b5c0b4086",
            "value": "100%"
          }
        },
        "47e2a748dcc9401684fc81bd70d81194": {
          "model_module": "@jupyter-widgets/controls",
          "model_name": "FloatProgressModel",
          "model_module_version": "1.5.0",
          "state": {
            "_dom_classes": [],
            "_model_module": "@jupyter-widgets/controls",
            "_model_module_version": "1.5.0",
            "_model_name": "FloatProgressModel",
            "_view_count": null,
            "_view_module": "@jupyter-widgets/controls",
            "_view_module_version": "1.5.0",
            "_view_name": "ProgressView",
            "bar_style": "success",
            "description": "",
            "description_tooltip": null,
            "layout": "IPY_MODEL_3a47b426836b452e840c8e1b61dc7bad",
            "max": 5713,
            "min": 0,
            "orientation": "horizontal",
            "style": "IPY_MODEL_6c51ca40a02845738fecabe0e437fad6",
            "value": 5713
          }
        },
        "a8128d1d68dc43649847404819362c92": {
          "model_module": "@jupyter-widgets/controls",
          "model_name": "HTMLModel",
          "model_module_version": "1.5.0",
          "state": {
            "_dom_classes": [],
            "_model_module": "@jupyter-widgets/controls",
            "_model_module_version": "1.5.0",
            "_model_name": "HTMLModel",
            "_view_count": null,
            "_view_module": "@jupyter-widgets/controls",
            "_view_module_version": "1.5.0",
            "_view_name": "HTMLView",
            "description": "",
            "description_tooltip": null,
            "layout": "IPY_MODEL_4b72b077be4946379a38ee459496985d",
            "placeholder": "​",
            "style": "IPY_MODEL_0f3ca495cd204f48a7717d2eaddc663d",
            "value": " 5713/5713 [00:02&lt;00:00, 1647.67it/s]"
          }
        },
        "68ef16a46fe34c69aadeb23c616821d8": {
          "model_module": "@jupyter-widgets/base",
          "model_name": "LayoutModel",
          "model_module_version": "1.2.0",
          "state": {
            "_model_module": "@jupyter-widgets/base",
            "_model_module_version": "1.2.0",
            "_model_name": "LayoutModel",
            "_view_count": null,
            "_view_module": "@jupyter-widgets/base",
            "_view_module_version": "1.2.0",
            "_view_name": "LayoutView",
            "align_content": null,
            "align_items": null,
            "align_self": null,
            "border": null,
            "bottom": null,
            "display": null,
            "flex": null,
            "flex_flow": null,
            "grid_area": null,
            "grid_auto_columns": null,
            "grid_auto_flow": null,
            "grid_auto_rows": null,
            "grid_column": null,
            "grid_gap": null,
            "grid_row": null,
            "grid_template_areas": null,
            "grid_template_columns": null,
            "grid_template_rows": null,
            "height": null,
            "justify_content": null,
            "justify_items": null,
            "left": null,
            "margin": null,
            "max_height": null,
            "max_width": null,
            "min_height": null,
            "min_width": null,
            "object_fit": null,
            "object_position": null,
            "order": null,
            "overflow": null,
            "overflow_x": null,
            "overflow_y": null,
            "padding": null,
            "right": null,
            "top": null,
            "visibility": null,
            "width": null
          }
        },
        "8aeff2df1b134651850bcbe0bbe12302": {
          "model_module": "@jupyter-widgets/base",
          "model_name": "LayoutModel",
          "model_module_version": "1.2.0",
          "state": {
            "_model_module": "@jupyter-widgets/base",
            "_model_module_version": "1.2.0",
            "_model_name": "LayoutModel",
            "_view_count": null,
            "_view_module": "@jupyter-widgets/base",
            "_view_module_version": "1.2.0",
            "_view_name": "LayoutView",
            "align_content": null,
            "align_items": null,
            "align_self": null,
            "border": null,
            "bottom": null,
            "display": null,
            "flex": null,
            "flex_flow": null,
            "grid_area": null,
            "grid_auto_columns": null,
            "grid_auto_flow": null,
            "grid_auto_rows": null,
            "grid_column": null,
            "grid_gap": null,
            "grid_row": null,
            "grid_template_areas": null,
            "grid_template_columns": null,
            "grid_template_rows": null,
            "height": null,
            "justify_content": null,
            "justify_items": null,
            "left": null,
            "margin": null,
            "max_height": null,
            "max_width": null,
            "min_height": null,
            "min_width": null,
            "object_fit": null,
            "object_position": null,
            "order": null,
            "overflow": null,
            "overflow_x": null,
            "overflow_y": null,
            "padding": null,
            "right": null,
            "top": null,
            "visibility": null,
            "width": null
          }
        },
        "d56e60b141e2432cb90bc89b5c0b4086": {
          "model_module": "@jupyter-widgets/controls",
          "model_name": "DescriptionStyleModel",
          "model_module_version": "1.5.0",
          "state": {
            "_model_module": "@jupyter-widgets/controls",
            "_model_module_version": "1.5.0",
            "_model_name": "DescriptionStyleModel",
            "_view_count": null,
            "_view_module": "@jupyter-widgets/base",
            "_view_module_version": "1.2.0",
            "_view_name": "StyleView",
            "description_width": ""
          }
        },
        "3a47b426836b452e840c8e1b61dc7bad": {
          "model_module": "@jupyter-widgets/base",
          "model_name": "LayoutModel",
          "model_module_version": "1.2.0",
          "state": {
            "_model_module": "@jupyter-widgets/base",
            "_model_module_version": "1.2.0",
            "_model_name": "LayoutModel",
            "_view_count": null,
            "_view_module": "@jupyter-widgets/base",
            "_view_module_version": "1.2.0",
            "_view_name": "LayoutView",
            "align_content": null,
            "align_items": null,
            "align_self": null,
            "border": null,
            "bottom": null,
            "display": null,
            "flex": null,
            "flex_flow": null,
            "grid_area": null,
            "grid_auto_columns": null,
            "grid_auto_flow": null,
            "grid_auto_rows": null,
            "grid_column": null,
            "grid_gap": null,
            "grid_row": null,
            "grid_template_areas": null,
            "grid_template_columns": null,
            "grid_template_rows": null,
            "height": null,
            "justify_content": null,
            "justify_items": null,
            "left": null,
            "margin": null,
            "max_height": null,
            "max_width": null,
            "min_height": null,
            "min_width": null,
            "object_fit": null,
            "object_position": null,
            "order": null,
            "overflow": null,
            "overflow_x": null,
            "overflow_y": null,
            "padding": null,
            "right": null,
            "top": null,
            "visibility": null,
            "width": null
          }
        },
        "6c51ca40a02845738fecabe0e437fad6": {
          "model_module": "@jupyter-widgets/controls",
          "model_name": "ProgressStyleModel",
          "model_module_version": "1.5.0",
          "state": {
            "_model_module": "@jupyter-widgets/controls",
            "_model_module_version": "1.5.0",
            "_model_name": "ProgressStyleModel",
            "_view_count": null,
            "_view_module": "@jupyter-widgets/base",
            "_view_module_version": "1.2.0",
            "_view_name": "StyleView",
            "bar_color": null,
            "description_width": ""
          }
        },
        "4b72b077be4946379a38ee459496985d": {
          "model_module": "@jupyter-widgets/base",
          "model_name": "LayoutModel",
          "model_module_version": "1.2.0",
          "state": {
            "_model_module": "@jupyter-widgets/base",
            "_model_module_version": "1.2.0",
            "_model_name": "LayoutModel",
            "_view_count": null,
            "_view_module": "@jupyter-widgets/base",
            "_view_module_version": "1.2.0",
            "_view_name": "LayoutView",
            "align_content": null,
            "align_items": null,
            "align_self": null,
            "border": null,
            "bottom": null,
            "display": null,
            "flex": null,
            "flex_flow": null,
            "grid_area": null,
            "grid_auto_columns": null,
            "grid_auto_flow": null,
            "grid_auto_rows": null,
            "grid_column": null,
            "grid_gap": null,
            "grid_row": null,
            "grid_template_areas": null,
            "grid_template_columns": null,
            "grid_template_rows": null,
            "height": null,
            "justify_content": null,
            "justify_items": null,
            "left": null,
            "margin": null,
            "max_height": null,
            "max_width": null,
            "min_height": null,
            "min_width": null,
            "object_fit": null,
            "object_position": null,
            "order": null,
            "overflow": null,
            "overflow_x": null,
            "overflow_y": null,
            "padding": null,
            "right": null,
            "top": null,
            "visibility": null,
            "width": null
          }
        },
        "0f3ca495cd204f48a7717d2eaddc663d": {
          "model_module": "@jupyter-widgets/controls",
          "model_name": "DescriptionStyleModel",
          "model_module_version": "1.5.0",
          "state": {
            "_model_module": "@jupyter-widgets/controls",
            "_model_module_version": "1.5.0",
            "_model_name": "DescriptionStyleModel",
            "_view_count": null,
            "_view_module": "@jupyter-widgets/base",
            "_view_module_version": "1.2.0",
            "_view_name": "StyleView",
            "description_width": ""
          }
        },
        "246caa1dab0f4c90b39cef75058c1cae": {
          "model_module": "@jupyter-widgets/controls",
          "model_name": "HBoxModel",
          "model_module_version": "1.5.0",
          "state": {
            "_dom_classes": [],
            "_model_module": "@jupyter-widgets/controls",
            "_model_module_version": "1.5.0",
            "_model_name": "HBoxModel",
            "_view_count": null,
            "_view_module": "@jupyter-widgets/controls",
            "_view_module_version": "1.5.0",
            "_view_name": "HBoxView",
            "box_style": "",
            "children": [
              "IPY_MODEL_59a8ab753f104dcb813d0106098432d2",
              "IPY_MODEL_5817d9c3c83844f6ab8dd3a4e6222a74",
              "IPY_MODEL_e24ab3019a8347919b422adb63c8a26a"
            ],
            "layout": "IPY_MODEL_60f5e846d44c43518514f67067f43965"
          }
        },
        "59a8ab753f104dcb813d0106098432d2": {
          "model_module": "@jupyter-widgets/controls",
          "model_name": "HTMLModel",
          "model_module_version": "1.5.0",
          "state": {
            "_dom_classes": [],
            "_model_module": "@jupyter-widgets/controls",
            "_model_module_version": "1.5.0",
            "_model_name": "HTMLModel",
            "_view_count": null,
            "_view_module": "@jupyter-widgets/controls",
            "_view_module_version": "1.5.0",
            "_view_name": "HTMLView",
            "description": "",
            "description_tooltip": null,
            "layout": "IPY_MODEL_b24171ec4a4c49029080eda5a8d9e77d",
            "placeholder": "​",
            "style": "IPY_MODEL_d7ca1349901040819b3dce73921213a2",
            "value": "100%"
          }
        },
        "5817d9c3c83844f6ab8dd3a4e6222a74": {
          "model_module": "@jupyter-widgets/controls",
          "model_name": "FloatProgressModel",
          "model_module_version": "1.5.0",
          "state": {
            "_dom_classes": [],
            "_model_module": "@jupyter-widgets/controls",
            "_model_module_version": "1.5.0",
            "_model_name": "FloatProgressModel",
            "_view_count": null,
            "_view_module": "@jupyter-widgets/controls",
            "_view_module_version": "1.5.0",
            "_view_name": "ProgressView",
            "bar_style": "success",
            "description": "",
            "description_tooltip": null,
            "layout": "IPY_MODEL_bd96e63a7c8740b698acaedcc11ffc41",
            "max": 179,
            "min": 0,
            "orientation": "horizontal",
            "style": "IPY_MODEL_677ddadfd864490ba4c522c30915f176",
            "value": 179
          }
        },
        "e24ab3019a8347919b422adb63c8a26a": {
          "model_module": "@jupyter-widgets/controls",
          "model_name": "HTMLModel",
          "model_module_version": "1.5.0",
          "state": {
            "_dom_classes": [],
            "_model_module": "@jupyter-widgets/controls",
            "_model_module_version": "1.5.0",
            "_model_name": "HTMLModel",
            "_view_count": null,
            "_view_module": "@jupyter-widgets/controls",
            "_view_module_version": "1.5.0",
            "_view_name": "HTMLView",
            "description": "",
            "description_tooltip": null,
            "layout": "IPY_MODEL_8791c577fe754d6f98a012c5f877782e",
            "placeholder": "​",
            "style": "IPY_MODEL_ae162a57ed944438a6ad33b8bf3e4ef2",
            "value": " 179/179 [01:22&lt;00:00,  3.44it/s]"
          }
        },
        "60f5e846d44c43518514f67067f43965": {
          "model_module": "@jupyter-widgets/base",
          "model_name": "LayoutModel",
          "model_module_version": "1.2.0",
          "state": {
            "_model_module": "@jupyter-widgets/base",
            "_model_module_version": "1.2.0",
            "_model_name": "LayoutModel",
            "_view_count": null,
            "_view_module": "@jupyter-widgets/base",
            "_view_module_version": "1.2.0",
            "_view_name": "LayoutView",
            "align_content": null,
            "align_items": null,
            "align_self": null,
            "border": null,
            "bottom": null,
            "display": null,
            "flex": null,
            "flex_flow": null,
            "grid_area": null,
            "grid_auto_columns": null,
            "grid_auto_flow": null,
            "grid_auto_rows": null,
            "grid_column": null,
            "grid_gap": null,
            "grid_row": null,
            "grid_template_areas": null,
            "grid_template_columns": null,
            "grid_template_rows": null,
            "height": null,
            "justify_content": null,
            "justify_items": null,
            "left": null,
            "margin": null,
            "max_height": null,
            "max_width": null,
            "min_height": null,
            "min_width": null,
            "object_fit": null,
            "object_position": null,
            "order": null,
            "overflow": null,
            "overflow_x": null,
            "overflow_y": null,
            "padding": null,
            "right": null,
            "top": null,
            "visibility": null,
            "width": null
          }
        },
        "b24171ec4a4c49029080eda5a8d9e77d": {
          "model_module": "@jupyter-widgets/base",
          "model_name": "LayoutModel",
          "model_module_version": "1.2.0",
          "state": {
            "_model_module": "@jupyter-widgets/base",
            "_model_module_version": "1.2.0",
            "_model_name": "LayoutModel",
            "_view_count": null,
            "_view_module": "@jupyter-widgets/base",
            "_view_module_version": "1.2.0",
            "_view_name": "LayoutView",
            "align_content": null,
            "align_items": null,
            "align_self": null,
            "border": null,
            "bottom": null,
            "display": null,
            "flex": null,
            "flex_flow": null,
            "grid_area": null,
            "grid_auto_columns": null,
            "grid_auto_flow": null,
            "grid_auto_rows": null,
            "grid_column": null,
            "grid_gap": null,
            "grid_row": null,
            "grid_template_areas": null,
            "grid_template_columns": null,
            "grid_template_rows": null,
            "height": null,
            "justify_content": null,
            "justify_items": null,
            "left": null,
            "margin": null,
            "max_height": null,
            "max_width": null,
            "min_height": null,
            "min_width": null,
            "object_fit": null,
            "object_position": null,
            "order": null,
            "overflow": null,
            "overflow_x": null,
            "overflow_y": null,
            "padding": null,
            "right": null,
            "top": null,
            "visibility": null,
            "width": null
          }
        },
        "d7ca1349901040819b3dce73921213a2": {
          "model_module": "@jupyter-widgets/controls",
          "model_name": "DescriptionStyleModel",
          "model_module_version": "1.5.0",
          "state": {
            "_model_module": "@jupyter-widgets/controls",
            "_model_module_version": "1.5.0",
            "_model_name": "DescriptionStyleModel",
            "_view_count": null,
            "_view_module": "@jupyter-widgets/base",
            "_view_module_version": "1.2.0",
            "_view_name": "StyleView",
            "description_width": ""
          }
        },
        "bd96e63a7c8740b698acaedcc11ffc41": {
          "model_module": "@jupyter-widgets/base",
          "model_name": "LayoutModel",
          "model_module_version": "1.2.0",
          "state": {
            "_model_module": "@jupyter-widgets/base",
            "_model_module_version": "1.2.0",
            "_model_name": "LayoutModel",
            "_view_count": null,
            "_view_module": "@jupyter-widgets/base",
            "_view_module_version": "1.2.0",
            "_view_name": "LayoutView",
            "align_content": null,
            "align_items": null,
            "align_self": null,
            "border": null,
            "bottom": null,
            "display": null,
            "flex": null,
            "flex_flow": null,
            "grid_area": null,
            "grid_auto_columns": null,
            "grid_auto_flow": null,
            "grid_auto_rows": null,
            "grid_column": null,
            "grid_gap": null,
            "grid_row": null,
            "grid_template_areas": null,
            "grid_template_columns": null,
            "grid_template_rows": null,
            "height": null,
            "justify_content": null,
            "justify_items": null,
            "left": null,
            "margin": null,
            "max_height": null,
            "max_width": null,
            "min_height": null,
            "min_width": null,
            "object_fit": null,
            "object_position": null,
            "order": null,
            "overflow": null,
            "overflow_x": null,
            "overflow_y": null,
            "padding": null,
            "right": null,
            "top": null,
            "visibility": null,
            "width": null
          }
        },
        "677ddadfd864490ba4c522c30915f176": {
          "model_module": "@jupyter-widgets/controls",
          "model_name": "ProgressStyleModel",
          "model_module_version": "1.5.0",
          "state": {
            "_model_module": "@jupyter-widgets/controls",
            "_model_module_version": "1.5.0",
            "_model_name": "ProgressStyleModel",
            "_view_count": null,
            "_view_module": "@jupyter-widgets/base",
            "_view_module_version": "1.2.0",
            "_view_name": "StyleView",
            "bar_color": null,
            "description_width": ""
          }
        },
        "8791c577fe754d6f98a012c5f877782e": {
          "model_module": "@jupyter-widgets/base",
          "model_name": "LayoutModel",
          "model_module_version": "1.2.0",
          "state": {
            "_model_module": "@jupyter-widgets/base",
            "_model_module_version": "1.2.0",
            "_model_name": "LayoutModel",
            "_view_count": null,
            "_view_module": "@jupyter-widgets/base",
            "_view_module_version": "1.2.0",
            "_view_name": "LayoutView",
            "align_content": null,
            "align_items": null,
            "align_self": null,
            "border": null,
            "bottom": null,
            "display": null,
            "flex": null,
            "flex_flow": null,
            "grid_area": null,
            "grid_auto_columns": null,
            "grid_auto_flow": null,
            "grid_auto_rows": null,
            "grid_column": null,
            "grid_gap": null,
            "grid_row": null,
            "grid_template_areas": null,
            "grid_template_columns": null,
            "grid_template_rows": null,
            "height": null,
            "justify_content": null,
            "justify_items": null,
            "left": null,
            "margin": null,
            "max_height": null,
            "max_width": null,
            "min_height": null,
            "min_width": null,
            "object_fit": null,
            "object_position": null,
            "order": null,
            "overflow": null,
            "overflow_x": null,
            "overflow_y": null,
            "padding": null,
            "right": null,
            "top": null,
            "visibility": null,
            "width": null
          }
        },
        "ae162a57ed944438a6ad33b8bf3e4ef2": {
          "model_module": "@jupyter-widgets/controls",
          "model_name": "DescriptionStyleModel",
          "model_module_version": "1.5.0",
          "state": {
            "_model_module": "@jupyter-widgets/controls",
            "_model_module_version": "1.5.0",
            "_model_name": "DescriptionStyleModel",
            "_view_count": null,
            "_view_module": "@jupyter-widgets/base",
            "_view_module_version": "1.2.0",
            "_view_name": "StyleView",
            "description_width": ""
          }
        },
        "1b4395fdeb414a22a813c3ecb0404b9f": {
          "model_module": "@jupyter-widgets/controls",
          "model_name": "HBoxModel",
          "model_module_version": "1.5.0",
          "state": {
            "_dom_classes": [],
            "_model_module": "@jupyter-widgets/controls",
            "_model_module_version": "1.5.0",
            "_model_name": "HBoxModel",
            "_view_count": null,
            "_view_module": "@jupyter-widgets/controls",
            "_view_module_version": "1.5.0",
            "_view_name": "HBoxView",
            "box_style": "",
            "children": [
              "IPY_MODEL_899f5333d61b4596b2779ab2f63d019a",
              "IPY_MODEL_88b08d8ea0a748f8ab1955624617047e",
              "IPY_MODEL_9415c008b88741229838a4a8bde0c02d"
            ],
            "layout": "IPY_MODEL_f06b6316259a4833bb54a86b2c180072"
          }
        },
        "899f5333d61b4596b2779ab2f63d019a": {
          "model_module": "@jupyter-widgets/controls",
          "model_name": "HTMLModel",
          "model_module_version": "1.5.0",
          "state": {
            "_dom_classes": [],
            "_model_module": "@jupyter-widgets/controls",
            "_model_module_version": "1.5.0",
            "_model_name": "HTMLModel",
            "_view_count": null,
            "_view_module": "@jupyter-widgets/controls",
            "_view_module_version": "1.5.0",
            "_view_name": "HTMLView",
            "description": "",
            "description_tooltip": null,
            "layout": "IPY_MODEL_b5195bbee50e484baeb0fe455526461e",
            "placeholder": "​",
            "style": "IPY_MODEL_1c44025cf4104037a090a374ca2fd6aa",
            "value": "Creating json from Arrow format: 100%"
          }
        },
        "88b08d8ea0a748f8ab1955624617047e": {
          "model_module": "@jupyter-widgets/controls",
          "model_name": "FloatProgressModel",
          "model_module_version": "1.5.0",
          "state": {
            "_dom_classes": [],
            "_model_module": "@jupyter-widgets/controls",
            "_model_module_version": "1.5.0",
            "_model_name": "FloatProgressModel",
            "_view_count": null,
            "_view_module": "@jupyter-widgets/controls",
            "_view_module_version": "1.5.0",
            "_view_name": "ProgressView",
            "bar_style": "success",
            "description": "",
            "description_tooltip": null,
            "layout": "IPY_MODEL_f4ea60ffc0634600b218c0a3ec61594d",
            "max": 6,
            "min": 0,
            "orientation": "horizontal",
            "style": "IPY_MODEL_06bf8de7fd4747a1a8b3ac99320ed33a",
            "value": 6
          }
        },
        "9415c008b88741229838a4a8bde0c02d": {
          "model_module": "@jupyter-widgets/controls",
          "model_name": "HTMLModel",
          "model_module_version": "1.5.0",
          "state": {
            "_dom_classes": [],
            "_model_module": "@jupyter-widgets/controls",
            "_model_module_version": "1.5.0",
            "_model_name": "HTMLModel",
            "_view_count": null,
            "_view_module": "@jupyter-widgets/controls",
            "_view_module_version": "1.5.0",
            "_view_name": "HTMLView",
            "description": "",
            "description_tooltip": null,
            "layout": "IPY_MODEL_2f07712b6aa444c99b801b9760de8c12",
            "placeholder": "​",
            "style": "IPY_MODEL_15e8e0ab426d4ff8a7929c97aff66453",
            "value": " 6/6 [00:00&lt;00:00, 104.46ba/s]"
          }
        },
        "f06b6316259a4833bb54a86b2c180072": {
          "model_module": "@jupyter-widgets/base",
          "model_name": "LayoutModel",
          "model_module_version": "1.2.0",
          "state": {
            "_model_module": "@jupyter-widgets/base",
            "_model_module_version": "1.2.0",
            "_model_name": "LayoutModel",
            "_view_count": null,
            "_view_module": "@jupyter-widgets/base",
            "_view_module_version": "1.2.0",
            "_view_name": "LayoutView",
            "align_content": null,
            "align_items": null,
            "align_self": null,
            "border": null,
            "bottom": null,
            "display": null,
            "flex": null,
            "flex_flow": null,
            "grid_area": null,
            "grid_auto_columns": null,
            "grid_auto_flow": null,
            "grid_auto_rows": null,
            "grid_column": null,
            "grid_gap": null,
            "grid_row": null,
            "grid_template_areas": null,
            "grid_template_columns": null,
            "grid_template_rows": null,
            "height": null,
            "justify_content": null,
            "justify_items": null,
            "left": null,
            "margin": null,
            "max_height": null,
            "max_width": null,
            "min_height": null,
            "min_width": null,
            "object_fit": null,
            "object_position": null,
            "order": null,
            "overflow": null,
            "overflow_x": null,
            "overflow_y": null,
            "padding": null,
            "right": null,
            "top": null,
            "visibility": null,
            "width": null
          }
        },
        "b5195bbee50e484baeb0fe455526461e": {
          "model_module": "@jupyter-widgets/base",
          "model_name": "LayoutModel",
          "model_module_version": "1.2.0",
          "state": {
            "_model_module": "@jupyter-widgets/base",
            "_model_module_version": "1.2.0",
            "_model_name": "LayoutModel",
            "_view_count": null,
            "_view_module": "@jupyter-widgets/base",
            "_view_module_version": "1.2.0",
            "_view_name": "LayoutView",
            "align_content": null,
            "align_items": null,
            "align_self": null,
            "border": null,
            "bottom": null,
            "display": null,
            "flex": null,
            "flex_flow": null,
            "grid_area": null,
            "grid_auto_columns": null,
            "grid_auto_flow": null,
            "grid_auto_rows": null,
            "grid_column": null,
            "grid_gap": null,
            "grid_row": null,
            "grid_template_areas": null,
            "grid_template_columns": null,
            "grid_template_rows": null,
            "height": null,
            "justify_content": null,
            "justify_items": null,
            "left": null,
            "margin": null,
            "max_height": null,
            "max_width": null,
            "min_height": null,
            "min_width": null,
            "object_fit": null,
            "object_position": null,
            "order": null,
            "overflow": null,
            "overflow_x": null,
            "overflow_y": null,
            "padding": null,
            "right": null,
            "top": null,
            "visibility": null,
            "width": null
          }
        },
        "1c44025cf4104037a090a374ca2fd6aa": {
          "model_module": "@jupyter-widgets/controls",
          "model_name": "DescriptionStyleModel",
          "model_module_version": "1.5.0",
          "state": {
            "_model_module": "@jupyter-widgets/controls",
            "_model_module_version": "1.5.0",
            "_model_name": "DescriptionStyleModel",
            "_view_count": null,
            "_view_module": "@jupyter-widgets/base",
            "_view_module_version": "1.2.0",
            "_view_name": "StyleView",
            "description_width": ""
          }
        },
        "f4ea60ffc0634600b218c0a3ec61594d": {
          "model_module": "@jupyter-widgets/base",
          "model_name": "LayoutModel",
          "model_module_version": "1.2.0",
          "state": {
            "_model_module": "@jupyter-widgets/base",
            "_model_module_version": "1.2.0",
            "_model_name": "LayoutModel",
            "_view_count": null,
            "_view_module": "@jupyter-widgets/base",
            "_view_module_version": "1.2.0",
            "_view_name": "LayoutView",
            "align_content": null,
            "align_items": null,
            "align_self": null,
            "border": null,
            "bottom": null,
            "display": null,
            "flex": null,
            "flex_flow": null,
            "grid_area": null,
            "grid_auto_columns": null,
            "grid_auto_flow": null,
            "grid_auto_rows": null,
            "grid_column": null,
            "grid_gap": null,
            "grid_row": null,
            "grid_template_areas": null,
            "grid_template_columns": null,
            "grid_template_rows": null,
            "height": null,
            "justify_content": null,
            "justify_items": null,
            "left": null,
            "margin": null,
            "max_height": null,
            "max_width": null,
            "min_height": null,
            "min_width": null,
            "object_fit": null,
            "object_position": null,
            "order": null,
            "overflow": null,
            "overflow_x": null,
            "overflow_y": null,
            "padding": null,
            "right": null,
            "top": null,
            "visibility": null,
            "width": null
          }
        },
        "06bf8de7fd4747a1a8b3ac99320ed33a": {
          "model_module": "@jupyter-widgets/controls",
          "model_name": "ProgressStyleModel",
          "model_module_version": "1.5.0",
          "state": {
            "_model_module": "@jupyter-widgets/controls",
            "_model_module_version": "1.5.0",
            "_model_name": "ProgressStyleModel",
            "_view_count": null,
            "_view_module": "@jupyter-widgets/base",
            "_view_module_version": "1.2.0",
            "_view_name": "StyleView",
            "bar_color": null,
            "description_width": ""
          }
        },
        "2f07712b6aa444c99b801b9760de8c12": {
          "model_module": "@jupyter-widgets/base",
          "model_name": "LayoutModel",
          "model_module_version": "1.2.0",
          "state": {
            "_model_module": "@jupyter-widgets/base",
            "_model_module_version": "1.2.0",
            "_model_name": "LayoutModel",
            "_view_count": null,
            "_view_module": "@jupyter-widgets/base",
            "_view_module_version": "1.2.0",
            "_view_name": "LayoutView",
            "align_content": null,
            "align_items": null,
            "align_self": null,
            "border": null,
            "bottom": null,
            "display": null,
            "flex": null,
            "flex_flow": null,
            "grid_area": null,
            "grid_auto_columns": null,
            "grid_auto_flow": null,
            "grid_auto_rows": null,
            "grid_column": null,
            "grid_gap": null,
            "grid_row": null,
            "grid_template_areas": null,
            "grid_template_columns": null,
            "grid_template_rows": null,
            "height": null,
            "justify_content": null,
            "justify_items": null,
            "left": null,
            "margin": null,
            "max_height": null,
            "max_width": null,
            "min_height": null,
            "min_width": null,
            "object_fit": null,
            "object_position": null,
            "order": null,
            "overflow": null,
            "overflow_x": null,
            "overflow_y": null,
            "padding": null,
            "right": null,
            "top": null,
            "visibility": null,
            "width": null
          }
        },
        "15e8e0ab426d4ff8a7929c97aff66453": {
          "model_module": "@jupyter-widgets/controls",
          "model_name": "DescriptionStyleModel",
          "model_module_version": "1.5.0",
          "state": {
            "_model_module": "@jupyter-widgets/controls",
            "_model_module_version": "1.5.0",
            "_model_name": "DescriptionStyleModel",
            "_view_count": null,
            "_view_module": "@jupyter-widgets/base",
            "_view_module_version": "1.2.0",
            "_view_name": "StyleView",
            "description_width": ""
          }
        }
      }
    }
  },
  "cells": [
    {
      "cell_type": "markdown",
      "metadata": {
        "id": "view-in-github",
        "colab_type": "text"
      },
      "source": [
        "<a href=\"https://colab.research.google.com/github/it-is-helga/m2_genAI/blob/main/class01/Lesson_1_NLG_Basics.ipynb\" target=\"_parent\"><img src=\"https://colab.research.google.com/assets/colab-badge.svg\" alt=\"Open In Colab\"/></a>"
      ]
    },
    {
      "cell_type": "markdown",
      "source": [
        "# Lesson 1: NLG Basics\n",
        "\n",
        "On this lesson you will learn how to:\n",
        "- Load datasets using Hugging Face\n",
        "- Load models using Hugging Face and CTranslate\n",
        "- Run the data through the model\n",
        "- Fine-tune the model."
      ],
      "metadata": {
        "id": "LWaedTK8mHx4"
      }
    },
    {
      "cell_type": "markdown",
      "source": [
        "## Libraries\n",
        "First, we will install some required libraries."
      ],
      "metadata": {
        "id": "U9FMp0gZngoq"
      }
    },
    {
      "cell_type": "code",
      "execution_count": 61,
      "metadata": {
        "id": "ST2nqrz56RIk"
      },
      "outputs": [],
      "source": [
        "# Install relevant libraries\n",
        "! pip install transformers[torch] datasets==3.6.0 ctranslate2 --quiet"
      ]
    },
    {
      "cell_type": "markdown",
      "source": [
        "Then, we import all the required components"
      ],
      "metadata": {
        "id": "OqvUULZ4qsr2"
      }
    },
    {
      "cell_type": "code",
      "source": [
        "# Import relevant libraries\n",
        "from datasets import load_dataset\n",
        "from  transformers import (\n",
        "    pipeline,\n",
        "    Seq2SeqTrainer,\n",
        "    Seq2SeqTrainingArguments,\n",
        "    DataCollatorForSeq2Seq,\n",
        "    AutoTokenizer\n",
        ")\n",
        "import ctranslate2\n",
        "import json\n",
        "import torch\n",
        "from tqdm.notebook import tqdm"
      ],
      "metadata": {
        "id": "eWjHH4nl6VAo"
      },
      "execution_count": 62,
      "outputs": []
    },
    {
      "cell_type": "markdown",
      "source": [
        "## Data\n",
        "\n",
        "We will use the `load_dataset` function to obtain the dataset"
      ],
      "metadata": {
        "id": "rMungc9Artm2"
      }
    },
    {
      "cell_type": "code",
      "source": [
        "ds = load_dataset(\n",
        "    'webnlg-challenge/web_nlg',\n",
        "    'release_v3.0_en',\n",
        "    trust_remote_code=True\n",
        ")"
      ],
      "metadata": {
        "id": "QUScodbsSXP3"
      },
      "execution_count": 63,
      "outputs": []
    },
    {
      "cell_type": "code",
      "source": [
        "ds"
      ],
      "metadata": {
        "colab": {
          "base_uri": "https://localhost:8080/"
        },
        "id": "pd3YlRxOSese",
        "outputId": "6016ab3a-b75e-402c-93a7-f23980a44147"
      },
      "execution_count": 64,
      "outputs": [
        {
          "output_type": "execute_result",
          "data": {
            "text/plain": [
              "DatasetDict({\n",
              "    train: Dataset({\n",
              "        features: ['category', 'size', 'eid', 'original_triple_sets', 'modified_triple_sets', 'shape', 'shape_type', 'lex', 'test_category', 'dbpedia_links', 'links'],\n",
              "        num_rows: 13211\n",
              "    })\n",
              "    dev: Dataset({\n",
              "        features: ['category', 'size', 'eid', 'original_triple_sets', 'modified_triple_sets', 'shape', 'shape_type', 'lex', 'test_category', 'dbpedia_links', 'links'],\n",
              "        num_rows: 1667\n",
              "    })\n",
              "    test: Dataset({\n",
              "        features: ['category', 'size', 'eid', 'original_triple_sets', 'modified_triple_sets', 'shape', 'shape_type', 'lex', 'test_category', 'dbpedia_links', 'links'],\n",
              "        num_rows: 5713\n",
              "    })\n",
              "})"
            ]
          },
          "metadata": {},
          "execution_count": 64
        }
      ]
    },
    {
      "cell_type": "code",
      "source": [
        "ds['train'].features"
      ],
      "metadata": {
        "colab": {
          "base_uri": "https://localhost:8080/"
        },
        "id": "clZ-mVvqtFNF",
        "outputId": "f86bc092-c120-4260-bc23-c8c2a1d618cc"
      },
      "execution_count": null,
      "outputs": [
        {
          "output_type": "execute_result",
          "data": {
            "text/plain": [
              "{'category': Value(dtype='string', id=None),\n",
              " 'size': Value(dtype='int32', id=None),\n",
              " 'eid': Value(dtype='string', id=None),\n",
              " 'original_triple_sets': Sequence(feature={'otriple_set': Sequence(feature=Value(dtype='string', id=None), length=-1, id=None)}, length=-1, id=None),\n",
              " 'modified_triple_sets': Sequence(feature={'mtriple_set': Sequence(feature=Value(dtype='string', id=None), length=-1, id=None)}, length=-1, id=None),\n",
              " 'shape': Value(dtype='string', id=None),\n",
              " 'shape_type': Value(dtype='string', id=None),\n",
              " 'lex': Sequence(feature={'comment': Value(dtype='string', id=None), 'lid': Value(dtype='string', id=None), 'text': Value(dtype='string', id=None), 'lang': Value(dtype='string', id=None)}, length=-1, id=None),\n",
              " 'test_category': Value(dtype='string', id=None),\n",
              " 'dbpedia_links': Sequence(feature=Value(dtype='string', id=None), length=-1, id=None),\n",
              " 'links': Sequence(feature=Value(dtype='string', id=None), length=-1, id=None)}"
            ]
          },
          "metadata": {},
          "execution_count": 5
        }
      ]
    },
    {
      "cell_type": "code",
      "source": [
        "ds['test'][20]"
      ],
      "metadata": {
        "colab": {
          "base_uri": "https://localhost:8080/"
        },
        "id": "8_jgZvgBtMHx",
        "outputId": "f78901ae-df8c-48e5-9ff6-cbe290026d9b"
      },
      "execution_count": null,
      "outputs": [
        {
          "output_type": "execute_result",
          "data": {
            "text/plain": [
              "{'category': 'MusicalWork',\n",
              " 'size': 7,\n",
              " 'eid': 'Id21',\n",
              " 'original_triple_sets': {'otriple_set': [['Bootleg_Series_Volume_1:_The_Quine_Tapes | artist | The_Velvet_Underground',\n",
              "    'Bootleg_Series_Volume_1:_The_Quine_Tapes | producer | The_Velvet_Underground',\n",
              "    'Bootleg_Series_Volume_1:_The_Quine_Tapes | runtime | 13803.0',\n",
              "    'Bootleg_Series_Volume_1:_The_Quine_Tapes | recordedIn | United_States',\n",
              "    'Bootleg_Series_Volume_1:_The_Quine_Tapes | recordedIn | St._Louis,_Missouri',\n",
              "    'Bootleg_Series_Volume_1:_The_Quine_Tapes | genre | Rock_music',\n",
              "    'Bootleg_Series_Volume_1:_The_Quine_Tapes | recordLabel | Polydor_Records']]},\n",
              " 'modified_triple_sets': {'mtriple_set': [['Bootleg_Series_Volume_1:_The_Quine_Tapes | artist | The_Velvet_Underground',\n",
              "    'Bootleg_Series_Volume_1:_The_Quine_Tapes | producer | The_Velvet_Underground',\n",
              "    'Bootleg_Series_Volume_1:_The_Quine_Tapes | runtime | 230.05',\n",
              "    'Bootleg_Series_Volume_1:_The_Quine_Tapes | recordedIn | United_States',\n",
              "    'Bootleg_Series_Volume_1:_The_Quine_Tapes | recordedIn | St._Louis,_Missouri',\n",
              "    'Bootleg_Series_Volume_1:_The_Quine_Tapes | genre | Rock_music',\n",
              "    'Bootleg_Series_Volume_1:_The_Quine_Tapes | recordLabel | Polydor_Records']]},\n",
              " 'shape': '(X (X) (X) (X) (X) (X) (X) (X))',\n",
              " 'shape_type': 'sibling',\n",
              " 'lex': {'comment': ['', '', ''],\n",
              "  'lid': ['Id1', 'Id2', 'Id3'],\n",
              "  'text': ['Music group the Velvet Underground produced and released rock music album Bootleg Series Volume 1: The Quine Tapes under the Polydor Records record label. The album was recorded in St. Louis, Missouri, USA and has a run time of 230:05.',\n",
              "   'Bootleg Series Volume 1: The Quine Tapes created and produced by The Velvet Underground with runtime of 230.05 minutes was recorded in was St. Louis Missouri, United States. The Rock genre album was recorded through Polydor Records.',\n",
              "   'The Bootleg Series Volume I: The Quine Tapes created and produced by The Velvet Underground with runtime of 230.05 minutes was recorded in St. Louis, Missouri, United States. The Rock music genre album was released by the record label Polydor Records.'],\n",
              "  'lang': ['', '', '']},\n",
              " 'test_category': 'rdf-to-text-generation-test-data-with-refs-en',\n",
              " 'dbpedia_links': [],\n",
              " 'links': []}"
            ]
          },
          "metadata": {},
          "execution_count": 6
        }
      ]
    },
    {
      "cell_type": "code",
      "source": [
        "for triple in ds['test'][20]['modified_triple_sets']['mtriple_set'][0]:\n",
        "  temp = list(map(lambda x: ' '.join(x.split('_')), triple.split(' | ')))\n",
        "  print(', '.join(temp))"
      ],
      "metadata": {
        "colab": {
          "base_uri": "https://localhost:8080/"
        },
        "id": "MC91Lbx-kiqQ",
        "outputId": "de3a986d-0331-4210-ba50-bd2d179c116a"
      },
      "execution_count": 65,
      "outputs": [
        {
          "output_type": "stream",
          "name": "stdout",
          "text": [
            "Bootleg Series Volume 1: The Quine Tapes, artist, The Velvet Underground\n",
            "Bootleg Series Volume 1: The Quine Tapes, producer, The Velvet Underground\n",
            "Bootleg Series Volume 1: The Quine Tapes, runtime, 230.05\n",
            "Bootleg Series Volume 1: The Quine Tapes, recordedIn, United States\n",
            "Bootleg Series Volume 1: The Quine Tapes, recordedIn, St. Louis, Missouri\n",
            "Bootleg Series Volume 1: The Quine Tapes, genre, Rock music\n",
            "Bootleg Series Volume 1: The Quine Tapes, recordLabel, Polydor Records\n"
          ]
        }
      ]
    },
    {
      "cell_type": "code",
      "source": [
        "linearize_graph(ds['test'][20]['modified_triple_sets']['mtriple_set'][0])"
      ],
      "metadata": {
        "colab": {
          "base_uri": "https://localhost:8080/",
          "height": 139
        },
        "id": "G2bjnWtgmR8w",
        "outputId": "bc765150-9694-4676-b2b3-c483d7dad721"
      },
      "execution_count": 19,
      "outputs": [
        {
          "output_type": "execute_result",
          "data": {
            "text/plain": [
              "'Bootleg Series Volume 1: The Quine Tapes, artist, The Velvet Underground; Bootleg Series Volume 1: The Quine Tapes, producer, The Velvet Underground; Bootleg Series Volume 1: The Quine Tapes, runtime, 230.05; Bootleg Series Volume 1: The Quine Tapes, recordedIn, United States; Bootleg Series Volume 1: The Quine Tapes, recordedIn, St. Louis, Missouri; Bootleg Series Volume 1: The Quine Tapes, genre, Rock music; Bootleg Series Volume 1: The Quine Tapes, recordLabel, Polydor Records'"
            ],
            "application/vnd.google.colaboratory.intrinsic+json": {
              "type": "string"
            }
          },
          "metadata": {},
          "execution_count": 19
        }
      ]
    },
    {
      "cell_type": "markdown",
      "source": [
        "As you can see, the dataset has multiple features in different formats.\n",
        "However, we only required the expected input and the expected output.\n",
        "\n",
        "Let's define some preprocessing functions and apply them to the dataset."
      ],
      "metadata": {
        "id": "0_h4GHLutPNe"
      }
    },
    {
      "cell_type": "code",
      "source": [
        "# Define a function to linearize graphs\n",
        "# Hint: observe the structure of \"modified_triple_sets\" and \"mtriple_set\" in the dataset\n",
        "\n",
        "def linearize_graph(mtriple_set):\n",
        "    '''\n",
        "    Converts a list of triples into a single string following a given format.\n",
        "\n",
        "    Parameters:\n",
        "    mtriple_set (List[str]): A list containing strings where each string represents a triple\n",
        "    in the following format: \"subject | property | object\"\n",
        "\n",
        "\n",
        "    Returns:\n",
        "    linearized_graph (str): a string with the tripleset linearized\n",
        "    '''\n",
        "\n",
        "    # Your code here\n",
        "    linearized_graph = ''\n",
        "    linl = []\n",
        "    for triple in mtriple_set:\n",
        "        temp = list(map(lambda x: ' '.join(x.split('_')), triple.split(' | ')))\n",
        "        linl.append(', '.join(temp))\n",
        "    linearized_graph = '; '.join(linl)\n",
        "\n",
        "    return linearized_graph"
      ],
      "metadata": {
        "id": "JrJOzTnq5vpU"
      },
      "execution_count": 66,
      "outputs": []
    },
    {
      "cell_type": "code",
      "source": [
        "# Define functions to remove unnecessary information from the dataset\n",
        "def simplify_dataset_multiple_references(batch):\n",
        "    '''\n",
        "    Extracts the linearized graph and the references from a batch.\n",
        "\n",
        "    Parameters:\n",
        "    batch (Dict): a dictionary where each key is a feature of the dataset and each value is a list.\n",
        "\n",
        "    Returns:\n",
        "    new_batch (Dict): a dictionary where each key is a new feature and each value is a list.\n",
        "    '''\n",
        "\n",
        "    new_batch = {\n",
        "        'input': [],\n",
        "        'references': []\n",
        "    }\n",
        "\n",
        "    for i in range(len(batch['modified_triple_sets'])):\n",
        "        graph = batch['modified_triple_sets'][i]['mtriple_set'][0]\n",
        "        linearized_graph = linearize_graph(graph)\n",
        "        new_batch['input'].append(linearized_graph)\n",
        "        new_batch['references'].append(batch['lex'][i]['text'])\n",
        "    return new_batch"
      ],
      "metadata": {
        "id": "BwTggHj36XsC"
      },
      "execution_count": 67,
      "outputs": []
    },
    {
      "cell_type": "code",
      "source": [
        "# Remove unnecessary information from the dataset\n",
        "original_columns = ds['train'].features\n",
        "processed_ds = ds.map(\n",
        "    simplify_dataset_multiple_references,\n",
        "    batched=True,\n",
        "    remove_columns=original_columns\n",
        ")"
      ],
      "metadata": {
        "id": "axM3obga6ZA-"
      },
      "execution_count": 68,
      "outputs": []
    },
    {
      "cell_type": "code",
      "source": [
        "processed_ds"
      ],
      "metadata": {
        "colab": {
          "base_uri": "https://localhost:8080/"
        },
        "id": "TpR_P4mpzDs1",
        "outputId": "a1618fcb-4afb-40c2-f60f-bd5f4efac94b"
      },
      "execution_count": null,
      "outputs": [
        {
          "output_type": "execute_result",
          "data": {
            "text/plain": [
              "DatasetDict({\n",
              "    train: Dataset({\n",
              "        features: ['input', 'references'],\n",
              "        num_rows: 13211\n",
              "    })\n",
              "    dev: Dataset({\n",
              "        features: ['input', 'references'],\n",
              "        num_rows: 1667\n",
              "    })\n",
              "    test: Dataset({\n",
              "        features: ['input', 'references'],\n",
              "        num_rows: 5713\n",
              "    })\n",
              "})"
            ]
          },
          "metadata": {},
          "execution_count": 23
        }
      ]
    },
    {
      "cell_type": "code",
      "source": [
        "processed_ds['test'][20]"
      ],
      "metadata": {
        "colab": {
          "base_uri": "https://localhost:8080/"
        },
        "id": "XEM5d5SzmeO5",
        "outputId": "1fafd1f0-8c89-4eb1-aeea-3aec3e64bb57"
      },
      "execution_count": 22,
      "outputs": [
        {
          "output_type": "execute_result",
          "data": {
            "text/plain": [
              "{'input': 'Bootleg Series Volume 1: The Quine Tapes, artist, The Velvet Underground; Bootleg Series Volume 1: The Quine Tapes, producer, The Velvet Underground; Bootleg Series Volume 1: The Quine Tapes, runtime, 230.05; Bootleg Series Volume 1: The Quine Tapes, recordedIn, United States; Bootleg Series Volume 1: The Quine Tapes, recordedIn, St. Louis, Missouri; Bootleg Series Volume 1: The Quine Tapes, genre, Rock music; Bootleg Series Volume 1: The Quine Tapes, recordLabel, Polydor Records',\n",
              " 'references': ['Music group the Velvet Underground produced and released rock music album Bootleg Series Volume 1: The Quine Tapes under the Polydor Records record label. The album was recorded in St. Louis, Missouri, USA and has a run time of 230:05.',\n",
              "  'Bootleg Series Volume 1: The Quine Tapes created and produced by The Velvet Underground with runtime of 230.05 minutes was recorded in was St. Louis Missouri, United States. The Rock genre album was recorded through Polydor Records.',\n",
              "  'The Bootleg Series Volume I: The Quine Tapes created and produced by The Velvet Underground with runtime of 230.05 minutes was recorded in St. Louis, Missouri, United States. The Rock music genre album was released by the record label Polydor Records.']}"
            ]
          },
          "metadata": {},
          "execution_count": 22
        }
      ]
    },
    {
      "cell_type": "code",
      "source": [
        "processed_ds['test'][20]"
      ],
      "metadata": {
        "colab": {
          "base_uri": "https://localhost:8080/"
        },
        "id": "LbhDU-HVzE9c",
        "outputId": "49401188-bd2a-4059-baac-0518877876ec"
      },
      "execution_count": null,
      "outputs": [
        {
          "output_type": "execute_result",
          "data": {
            "text/plain": [
              "{'input': 'Bootleg Series Volume 1: The Quine Tapes, artist, The Velvet Underground; Bootleg Series Volume 1: The Quine Tapes, producer, The Velvet Underground; Bootleg Series Volume 1: The Quine Tapes, runtime, 230.05; Bootleg Series Volume 1: The Quine Tapes, recordedIn, United States; Bootleg Series Volume 1: The Quine Tapes, recordedIn, St. Louis, Missouri; Bootleg Series Volume 1: The Quine Tapes, genre, Rock music; Bootleg Series Volume 1: The Quine Tapes, recordLabel, Polydor Records',\n",
              " 'references': ['Music group the Velvet Underground produced and released rock music album Bootleg Series Volume 1: The Quine Tapes under the Polydor Records record label. The album was recorded in St. Louis, Missouri, USA and has a run time of 230:05.',\n",
              "  'Bootleg Series Volume 1: The Quine Tapes created and produced by The Velvet Underground with runtime of 230.05 minutes was recorded in was St. Louis Missouri, United States. The Rock genre album was recorded through Polydor Records.',\n",
              "  'The Bootleg Series Volume I: The Quine Tapes created and produced by The Velvet Underground with runtime of 230.05 minutes was recorded in St. Louis, Missouri, United States. The Rock music genre album was released by the record label Polydor Records.']}"
            ]
          },
          "metadata": {},
          "execution_count": 24
        }
      ]
    },
    {
      "cell_type": "markdown",
      "source": [
        "## Zero-shot\n",
        "\n",
        "To use a model out-of-the box there are many alternatives.\n",
        "\n",
        "The easier appraoch is to use Huggingface pipelines directly.\n",
        "\n",
        "We are going to load a [t5-small](https://huggingface.co/google-t5/t5-small) since it has very few parameters."
      ],
      "metadata": {
        "id": "UHE7QzQRrMi4"
      }
    },
    {
      "cell_type": "code",
      "source": [
        "# Load a model with tokenizer with the pipeline abstraction\n",
        "# Hint: look into the pipleine documentation to know\n",
        "\n",
        "generator = pipeline(\n",
        "    task = 'text2text-generation',\n",
        "    model = \"google/flan-t5-small\",\n",
        "    device_map='auto',\n",
        "    torch_dtype=torch.bfloat16\n",
        ")"
      ],
      "metadata": {
        "colab": {
          "base_uri": "https://localhost:8080/"
        },
        "id": "o7YQTg4NdAWo",
        "outputId": "444eff1f-aa7e-4ee0-fa29-30103a074162"
      },
      "execution_count": 6,
      "outputs": [
        {
          "output_type": "stream",
          "name": "stderr",
          "text": [
            "Device set to use cuda:0\n"
          ]
        }
      ]
    },
    {
      "cell_type": "markdown",
      "source": [
        "['audio-classification', 'automatic-speech-recognition', 'depth-estimation', 'document-question-answering', 'feature-extraction', 'fill-mask', 'image-classification', 'image-feature-extraction', 'image-segmentation', 'image-text-to-text', 'image-to-image', 'image-to-text', 'keypoint-matching', 'mask-generation', 'ner', 'object-detection', 'question-answering', 'sentiment-analysis', 'summarization', 'table-question-answering', 'text-classification', 'text-generation', 'text-to-audio', 'text-to-speech', 'text2text-generation', 'token-classification', 'translation', 'video-classification', 'visual-question-answering', 'vqa', 'zero-shot-audio-classification', 'zero-shot-classification', 'zero-shot-image-classification', 'zero-shot-object-detection', 'translation_XX_to_YY']\""
      ],
      "metadata": {
        "id": "95Vqu7nSkFo8"
      }
    },
    {
      "cell_type": "code",
      "source": [
        "# Test the model Zero-shot (One example)\n",
        "input_text = processed_ds['test'][0]['input']\n",
        "output_text = generator(input_text)[0]['generated_text']"
      ],
      "metadata": {
        "id": "ygvOF-VkwyXE"
      },
      "execution_count": 23,
      "outputs": []
    },
    {
      "cell_type": "code",
      "source": [
        "input_text"
      ],
      "metadata": {
        "colab": {
          "base_uri": "https://localhost:8080/",
          "height": 104
        },
        "id": "m-C7LnU5mmPn",
        "outputId": "be4ae4ed-1337-4c5c-c691-91453cac2e09"
      },
      "execution_count": 25,
      "outputs": [
        {
          "output_type": "execute_result",
          "data": {
            "text/plain": [
              "'Estádio Municipal Coaracy da Mata Fonseca, location, Arapiraca; Agremiação Sportiva Arapiraquense, league, Campeonato Brasileiro Série C; Campeonato Brasileiro Série C, country, Brazil; Agremiação Sportiva Arapiraquense, nickname, \"\\'\\'Alvinegro\"; Agremiação Sportiva Arapiraquense, ground, Estádio Municipal Coaracy da Mata Fonseca'"
            ],
            "application/vnd.google.colaboratory.intrinsic+json": {
              "type": "string"
            }
          },
          "metadata": {},
          "execution_count": 25
        }
      ]
    },
    {
      "cell_type": "code",
      "source": [
        "output_text"
      ],
      "metadata": {
        "colab": {
          "base_uri": "https://localhost:8080/",
          "height": 87
        },
        "id": "qgXmR-9vmjHK",
        "outputId": "487ef9dd-2d3e-4a28-d097-3c4654aa1f9a"
      },
      "execution_count": 24,
      "outputs": [
        {
          "output_type": "execute_result",
          "data": {
            "text/plain": [
              "'Agremiaço Sportiva Arapiraquense play in the Campeonato Brasileiro Série C league in Brazil. The nickname is Alvinegro and they play in the Campeonato Brasileiro Série C league. The ground of Agremiaço Sportiva Arapiraquense is located in Arapiraca.'"
            ],
            "application/vnd.google.colaboratory.intrinsic+json": {
              "type": "string"
            }
          },
          "metadata": {},
          "execution_count": 24
        }
      ]
    },
    {
      "cell_type": "code",
      "source": [
        "first_reference = processed_ds['test'][0]['references'][0]\n",
        "print(f'Input text: {input_text}')\n",
        "print()\n",
        "print(f'First reference: {first_reference}')\n",
        "print()\n",
        "print(f'Output text: {output_text}')"
      ],
      "metadata": {
        "colab": {
          "base_uri": "https://localhost:8080/"
        },
        "id": "GHwuj7w06cFo",
        "outputId": "df8f03f8-62c4-4945-f241-132591e0a35c"
      },
      "execution_count": 26,
      "outputs": [
        {
          "output_type": "stream",
          "name": "stdout",
          "text": [
            "Input text: Estádio Municipal Coaracy da Mata Fonseca, location, Arapiraca; Agremiação Sportiva Arapiraquense, league, Campeonato Brasileiro Série C; Campeonato Brasileiro Série C, country, Brazil; Agremiação Sportiva Arapiraquense, nickname, \"''Alvinegro\"; Agremiação Sportiva Arapiraquense, ground, Estádio Municipal Coaracy da Mata Fonseca\n",
            "\n",
            "First reference: Estádio Municipal Coaracy da Mata Fonseca is the name of the ground of Agremiação Sportiva Arapiraquense in Arapiraca. Agremiação Sportiva Arapiraquense, nicknamed \"Alvinegro\", lay in the Campeonato Brasileiro Série C league from Brazil.\n",
            "\n",
            "Output text: Agremiaço Sportiva Arapiraquense play in the Campeonato Brasileiro Série C league in Brazil. The nickname is Alvinegro and they play in the Campeonato Brasileiro Série C league. The ground of Agremiaço Sportiva Arapiraquense is located in Arapiraca.\n"
          ]
        }
      ]
    },
    {
      "cell_type": "markdown",
      "source": [
        "The model is siply transcribing the input. If we want it to actually do waht we want, we need to fine-tune it.\n",
        "\n",
        "## Training\n",
        "\n",
        "We will need a fucntion to transform the input and the references from strings to numbers. And, when multiple references are availbel saved them as individual instances."
      ],
      "metadata": {
        "id": "goxKcAf_xB_W"
      }
    },
    {
      "cell_type": "code",
      "source": [
        "# Define function to tokenize dataset\n",
        "# Hint: look into the \"simplify_dataset_multiple_references\" function to get ideas\n",
        "\n",
        "def tokenize_and_split(batch):\n",
        "    '''\n",
        "    Extracts the input ids, attention mask, and labels for each individual reference in the batch.\n",
        "\n",
        "    Parameters:\n",
        "    batch (Dict): a dictionary where each key is a feature of the dataset and each value is a list.\n",
        "\n",
        "    Returns:\n",
        "    new_batch (Dict): a dictionary where each key is a new feature and each value is a list.\n",
        "    '''\n",
        "\n",
        "    new_batch = {\n",
        "        'input_ids': [], # List[int]\n",
        "        'attention_mask': [], # List[int]\n",
        "        'labels': [] # List[int]\n",
        "    }\n",
        "    for i in range(len(batch['input'])):\n",
        "        for reference in batch['references'][i]:\n",
        "          new_batch['input_ids'].append(generator.tokenizer.encode(batch['input'][i]))\n",
        "          new_batch['attention_mask'].append([1] * (len(new_batch['input_ids'][-1])))\n",
        "          new_batch['labels'].append(generator.tokenizer.encode(reference))\n",
        "            # Your code here\n",
        "\n",
        "    #   for i in range(len(batch['modified_triple_sets'])):\n",
        "    #     graph = batch['modified_triple_sets'][i]['mtriple_set'][0]\n",
        "    #     linearized_graph = linearize_graph(graph)\n",
        "    #     new_batch['input'].append(linearized_graph)\n",
        "    #     new_batch['references'].append(batch['lex'][i]['text'])\n",
        "    # return new_batch\n",
        "    return new_batch"
      ],
      "metadata": {
        "id": "W3AQrzaqxQnT"
      },
      "execution_count": 52,
      "outputs": []
    },
    {
      "cell_type": "code",
      "source": [
        "# Remove unnecessary information from the dataset\n",
        "# Hint: look into the \"processed_ds\" declaration to get ideas\n",
        "\n",
        "original_columns = processed_ds['train'].features\n",
        "tokenized_ds = processed_ds.map(\n",
        "    tokenize_and_split,\n",
        "    batched=True,\n",
        "    remove_columns=original_columns\n",
        ")"
      ],
      "metadata": {
        "colab": {
          "base_uri": "https://localhost:8080/",
          "height": 113,
          "referenced_widgets": [
            "dab8448a8c96482182bc7e7c0b6c4602",
            "34209625a9d5468d93d30fec810f7aba",
            "3c0f4d1fe8554a6eb9d258a65370019f",
            "58f3d169a5b6413099d201e96eff99bf",
            "06a320283f504d3f9a9e087c70f75846",
            "35d9aa710e6f4b118cb1d30f0e7aca26",
            "1c9354a822234d76834a5a0ad7263c5b",
            "f3906a7aedff4376868c8c24a532f633",
            "0f3f524d3fb44f2084815291f2e53d2d",
            "1249b6f944d64918ab85f4a7651f107d",
            "07a01c4b7515496da70285c9ebdda962",
            "09b66b38e5bf4c19b4a90cd0b845c190",
            "021e6bb101a747bdaafe533bb4ad1976",
            "0775fedbacda4e72813bc64588fc346a",
            "3d85f415fd154773937ec852266adf0e",
            "3506d75074cf4af1b0bbfb2d461c12fc",
            "ef832b53d7fb42ee8a30c7d6ff49c0f5",
            "3ebf5ecae21d4eea8bacf89c1e92e2b0",
            "120c8e31d5e64b1c8ad74e8a531b2c31",
            "cd4272f44bdc48e98c2e058dfe4ef838",
            "05b1b9514c6649f48616386a9b529f51",
            "9338950e135c45a88ba01337819448c1",
            "420647245b544faf80f3b98f1b47c0e2",
            "9e83c114ae55405a93ec71c32c7ca92e",
            "2491267dd2f74ee49aee5d15159fc8f4",
            "2953c9dfacb14a78ac87309a5754038b",
            "60b4aab22c1141d0ab87705e494f4515",
            "ee26c9596fa74c618ed29fb821383a67",
            "6cdd8a9d714f44379dde5be2a3329d0f",
            "76b7a0d376f649cc8151aa5a0c73a66c",
            "cbe0a90fee98425d9aa75701d415af96",
            "644f9e855483478e8ae43e364f82b751",
            "867d070b6e704a2796831a0037571936"
          ]
        },
        "id": "jp1YYk3OxQqV",
        "outputId": "fba7e81d-73a0-4ed7-ef3f-c545200bc89f"
      },
      "execution_count": 53,
      "outputs": [
        {
          "output_type": "display_data",
          "data": {
            "text/plain": [
              "Map:   0%|          | 0/13211 [00:00<?, ? examples/s]"
            ],
            "application/vnd.jupyter.widget-view+json": {
              "version_major": 2,
              "version_minor": 0,
              "model_id": "dab8448a8c96482182bc7e7c0b6c4602"
            }
          },
          "metadata": {}
        },
        {
          "output_type": "display_data",
          "data": {
            "text/plain": [
              "Map:   0%|          | 0/1667 [00:00<?, ? examples/s]"
            ],
            "application/vnd.jupyter.widget-view+json": {
              "version_major": 2,
              "version_minor": 0,
              "model_id": "09b66b38e5bf4c19b4a90cd0b845c190"
            }
          },
          "metadata": {}
        },
        {
          "output_type": "display_data",
          "data": {
            "text/plain": [
              "Map:   0%|          | 0/5713 [00:00<?, ? examples/s]"
            ],
            "application/vnd.jupyter.widget-view+json": {
              "version_major": 2,
              "version_minor": 0,
              "model_id": "420647245b544faf80f3b98f1b47c0e2"
            }
          },
          "metadata": {}
        }
      ]
    },
    {
      "cell_type": "code",
      "source": [
        "tokenized_ds"
      ],
      "metadata": {
        "colab": {
          "base_uri": "https://localhost:8080/"
        },
        "id": "NUXzAqF1xQtz",
        "outputId": "306c703a-333e-4b0d-831e-04b15515c66f"
      },
      "execution_count": 32,
      "outputs": [
        {
          "output_type": "execute_result",
          "data": {
            "text/plain": [
              "DatasetDict({\n",
              "    train: Dataset({\n",
              "        features: ['input', 'references'],\n",
              "        num_rows: 13211\n",
              "    })\n",
              "    dev: Dataset({\n",
              "        features: ['input', 'references'],\n",
              "        num_rows: 1667\n",
              "    })\n",
              "    test: Dataset({\n",
              "        features: ['input', 'references'],\n",
              "        num_rows: 5713\n",
              "    })\n",
              "})"
            ]
          },
          "metadata": {},
          "execution_count": 32
        }
      ]
    },
    {
      "cell_type": "code",
      "source": [
        "# for i in range(len(processed_ds['test']['input'])):\n",
        "#   print(processed_ds['test']['input'])\n",
        "#   for reference in processed_ds['test'][20]['references'][i]:\n",
        "#     # print(reference)pass\n",
        "#     pass\n",
        "            # Your code here"
      ],
      "metadata": {
        "id": "CostuMMapbD8"
      },
      "execution_count": 50,
      "outputs": []
    },
    {
      "cell_type": "code",
      "source": [
        "tokenized_ds['test'][20]"
      ],
      "metadata": {
        "colab": {
          "base_uri": "https://localhost:8080/"
        },
        "id": "kLRGfhCynSZa",
        "outputId": "e9268443-fbb7-46de-b4da-4144238a78c2"
      },
      "execution_count": 54,
      "outputs": [
        {
          "output_type": "execute_result",
          "data": {
            "text/plain": [
              "{'input_ids': [5424,\n",
              "  122,\n",
              "  9,\n",
              "  12528,\n",
              "  355,\n",
              "  900,\n",
              "  6,\n",
              "  1687,\n",
              "  308,\n",
              "  342,\n",
              "  6,\n",
              "  9957,\n",
              "  5947,\n",
              "  18,\n",
              "  4198,\n",
              "  1],\n",
              " 'attention_mask': [1, 1, 1, 1, 1, 1, 1, 1, 1, 1, 1, 1, 1, 1, 1, 1],\n",
              " 'labels': [5424, 122, 9, 12528, 355, 900, 3977, 30, 1882, 9902, 9957, 5, 1]}"
            ]
          },
          "metadata": {},
          "execution_count": 54
        }
      ]
    },
    {
      "cell_type": "code",
      "source": [
        "tokenized_ds['test'][20]"
      ],
      "metadata": {
        "colab": {
          "base_uri": "https://localhost:8080/"
        },
        "id": "fHbdArIjxQwx",
        "outputId": "b5867079-6527-4edf-96a6-3d38804e61c2"
      },
      "execution_count": null,
      "outputs": [
        {
          "output_type": "execute_result",
          "data": {
            "text/plain": [
              "{'input_ids': [5424,\n",
              "  122,\n",
              "  9,\n",
              "  12528,\n",
              "  355,\n",
              "  900,\n",
              "  6,\n",
              "  1687,\n",
              "  308,\n",
              "  342,\n",
              "  6,\n",
              "  9957,\n",
              "  5947,\n",
              "  18,\n",
              "  4198,\n",
              "  1],\n",
              " 'attention_mask': [1, 1, 1, 1, 1, 1, 1, 1, 1, 1, 1, 1, 1, 1, 1, 1],\n",
              " 'labels': [5424, 122, 9, 12528, 355, 900, 3977, 30, 1882, 9902, 9957, 5, 1]}"
            ]
          },
          "metadata": {},
          "execution_count": 28
        }
      ]
    },
    {
      "cell_type": "markdown",
      "source": [
        "Once the data is prepared we need to define our training arguments and our trainer."
      ],
      "metadata": {
        "id": "fn3AsnzJzSM3"
      }
    },
    {
      "cell_type": "code",
      "source": [
        "import wandb\n",
        "wandb.login()"
      ],
      "metadata": {
        "colab": {
          "base_uri": "https://localhost:8080/"
        },
        "id": "rC_x3hqou_Vt",
        "outputId": "83ce065c-40c0-4139-b6f8-395177f543b2"
      },
      "execution_count": 69,
      "outputs": [
        {
          "output_type": "stream",
          "name": "stderr",
          "text": [
            "\u001b[34m\u001b[1mwandb\u001b[0m: \u001b[33mWARNING\u001b[0m Calling wandb.login() after wandb.init() has no effect.\n"
          ]
        },
        {
          "output_type": "execute_result",
          "data": {
            "text/plain": [
              "True"
            ]
          },
          "metadata": {},
          "execution_count": 69
        }
      ]
    },
    {
      "cell_type": "code",
      "source": [
        "tokenized_ds"
      ],
      "metadata": {
        "colab": {
          "base_uri": "https://localhost:8080/"
        },
        "id": "-zHy_RFQv2PK",
        "outputId": "0f555dc9-1ac2-4e73-cf26-bcb5711bd75c"
      },
      "execution_count": 58,
      "outputs": [
        {
          "output_type": "execute_result",
          "data": {
            "text/plain": [
              "DatasetDict({\n",
              "    train: Dataset({\n",
              "        features: ['input_ids', 'attention_mask', 'labels'],\n",
              "        num_rows: 35426\n",
              "    })\n",
              "    dev: Dataset({\n",
              "        features: ['input_ids', 'attention_mask', 'labels'],\n",
              "        num_rows: 4464\n",
              "    })\n",
              "    test: Dataset({\n",
              "        features: ['input_ids', 'attention_mask', 'labels'],\n",
              "        num_rows: 7305\n",
              "    })\n",
              "})"
            ]
          },
          "metadata": {},
          "execution_count": 58
        }
      ]
    },
    {
      "cell_type": "code",
      "source": [
        "# Define the training arguments\n",
        "training_arguments = Seq2SeqTrainingArguments(\n",
        "    output_dir = 't5-small-webnlg',\n",
        "    num_train_epochs = 1,\n",
        "    eval_strategy = 'steps',\n",
        "    eval_steps = 500,\n",
        "    per_device_train_batch_size = 16,\n",
        "    per_device_eval_batch_size = 32,\n",
        "    save_total_limit = 3,\n",
        "    load_best_model_at_end = True,\n",
        "    bf16=True,\n",
        "    optim='adafactor',\n",
        "    report_to = 'wandb'\n",
        ")"
      ],
      "metadata": {
        "id": "q-ncxg34zaBs"
      },
      "execution_count": 57,
      "outputs": []
    },
    {
      "cell_type": "code",
      "source": [
        "# Define the trainer\n",
        "trainer = Seq2SeqTrainer(\n",
        "    model = generator.model,\n",
        "    args = training_arguments,\n",
        "    data_collator = DataCollatorForSeq2Seq(tokenizer = generator.tokenizer),\n",
        "    train_dataset = tokenized_ds['train'],\n",
        "    eval_dataset = tokenized_ds['dev']\n",
        ")"
      ],
      "metadata": {
        "id": "8cXPqb6pzaEg"
      },
      "execution_count": 71,
      "outputs": []
    },
    {
      "cell_type": "markdown",
      "source": [
        "With all parts in place we can finally run the training."
      ],
      "metadata": {
        "id": "giZeP5Z3zpB3"
      }
    },
    {
      "cell_type": "code",
      "source": [
        "# Run the training\n",
        "trainer.train()"
      ],
      "metadata": {
        "colab": {
          "base_uri": "https://localhost:8080/",
          "height": 307
        },
        "id": "SpwyIa3lzmfT",
        "outputId": "c6ff6fa0-bdad-42a2-b39f-e03e42f974b8"
      },
      "execution_count": 72,
      "outputs": [
        {
          "output_type": "display_data",
          "data": {
            "text/plain": [
              "<IPython.core.display.HTML object>"
            ],
            "text/html": [
              "\n",
              "    <div>\n",
              "      \n",
              "      <progress value='2215' max='2215' style='width:300px; height:20px; vertical-align: middle;'></progress>\n",
              "      [2215/2215 12:42, Epoch 1/1]\n",
              "    </div>\n",
              "    <table border=\"1\" class=\"dataframe\">\n",
              "  <thead>\n",
              " <tr style=\"text-align: left;\">\n",
              "      <th>Step</th>\n",
              "      <th>Training Loss</th>\n",
              "      <th>Validation Loss</th>\n",
              "    </tr>\n",
              "  </thead>\n",
              "  <tbody>\n",
              "    <tr>\n",
              "      <td>500</td>\n",
              "      <td>0.850000</td>\n",
              "      <td>0.659753</td>\n",
              "    </tr>\n",
              "    <tr>\n",
              "      <td>1000</td>\n",
              "      <td>0.847600</td>\n",
              "      <td>0.659390</td>\n",
              "    </tr>\n",
              "    <tr>\n",
              "      <td>1500</td>\n",
              "      <td>0.856500</td>\n",
              "      <td>0.657175</td>\n",
              "    </tr>\n",
              "    <tr>\n",
              "      <td>2000</td>\n",
              "      <td>0.868400</td>\n",
              "      <td>0.656714</td>\n",
              "    </tr>\n",
              "  </tbody>\n",
              "</table><p>"
            ]
          },
          "metadata": {}
        },
        {
          "output_type": "stream",
          "name": "stderr",
          "text": [
            "There were missing keys in the checkpoint model loaded: ['encoder.embed_tokens.weight', 'decoder.embed_tokens.weight'].\n"
          ]
        },
        {
          "output_type": "execute_result",
          "data": {
            "text/plain": [
              "TrainOutput(global_step=2215, training_loss=0.8558417395598195, metrics={'train_runtime': 763.2641, 'train_samples_per_second': 46.414, 'train_steps_per_second': 2.902, 'total_flos': 1215591018098688.0, 'train_loss': 0.8558417395598195, 'epoch': 1.0})"
            ]
          },
          "metadata": {},
          "execution_count": 72
        }
      ]
    },
    {
      "cell_type": "code",
      "source": [
        "# Run the training\n",
        "trainer.train()"
      ],
      "metadata": {
        "colab": {
          "base_uri": "https://localhost:8080/",
          "height": 518
        },
        "id": "eamo4ZtywTKk",
        "outputId": "331551bb-0104-4e55-b2c0-dd920be37e1f"
      },
      "execution_count": 60,
      "outputs": [
        {
          "data": {
            "text/html": [
              "creating run (0.0s)"
            ],
            "text/plain": [
              "<IPython.core.display.HTML object>"
            ]
          },
          "metadata": {},
          "output_type": "display_data"
        },
        {
          "data": {
            "text/html": [
              "Tracking run with wandb version 0.21.3"
            ],
            "text/plain": [
              "<IPython.core.display.HTML object>"
            ]
          },
          "metadata": {},
          "output_type": "display_data"
        },
        {
          "data": {
            "text/html": [
              "Run data is saved locally in <code>/content/wandb/run-20250915_093933-4mk9nmx9</code>"
            ],
            "text/plain": [
              "<IPython.core.display.HTML object>"
            ]
          },
          "metadata": {},
          "output_type": "display_data"
        },
        {
          "data": {
            "text/html": [
              "Syncing run <strong><a href='https://wandb.ai/olga-t9nt9n-idmc/huggingface/runs/4mk9nmx9' target=\"_blank\">different-feather-2</a></strong> to <a href='https://wandb.ai/olga-t9nt9n-idmc/huggingface' target=\"_blank\">Weights & Biases</a> (<a href='https://wandb.me/developer-guide' target=\"_blank\">docs</a>)<br>"
            ],
            "text/plain": [
              "<IPython.core.display.HTML object>"
            ]
          },
          "metadata": {},
          "output_type": "display_data"
        },
        {
          "data": {
            "text/html": [
              " View project at <a href='https://wandb.ai/olga-t9nt9n-idmc/huggingface' target=\"_blank\">https://wandb.ai/olga-t9nt9n-idmc/huggingface</a>"
            ],
            "text/plain": [
              "<IPython.core.display.HTML object>"
            ]
          },
          "metadata": {},
          "output_type": "display_data"
        },
        {
          "data": {
            "text/html": [
              " View run at <a href='https://wandb.ai/olga-t9nt9n-idmc/huggingface/runs/4mk9nmx9' target=\"_blank\">https://wandb.ai/olga-t9nt9n-idmc/huggingface/runs/4mk9nmx9</a>"
            ],
            "text/plain": [
              "<IPython.core.display.HTML object>"
            ]
          },
          "metadata": {},
          "output_type": "display_data"
        },
        {
          "data": {
            "text/html": [
              "\n",
              "    <div>\n",
              "      \n",
              "      <progress value='769' max='2215' style='width:300px; height:20px; vertical-align: middle;'></progress>\n",
              "      [ 769/2215 04:08 < 07:47, 3.09 it/s, Epoch 0.35/1]\n",
              "    </div>\n",
              "    <table border=\"1\" class=\"dataframe\">\n",
              "  <thead>\n",
              " <tr style=\"text-align: left;\">\n",
              "      <th>Step</th>\n",
              "      <th>Training Loss</th>\n",
              "      <th>Validation Loss</th>\n",
              "    </tr>\n",
              "  </thead>\n",
              "  <tbody>\n",
              "    <tr>\n",
              "      <td>500</td>\n",
              "      <td>0.909700</td>\n",
              "      <td>0.663491</td>\n",
              "    </tr>\n",
              "  </tbody>\n",
              "</table><p>"
            ],
            "text/plain": [
              "<IPython.core.display.HTML object>"
            ]
          },
          "metadata": {},
          "output_type": "display_data"
        },
        {
          "output_type": "display_data",
          "data": {
            "text/plain": [
              "<IPython.core.display.HTML object>"
            ],
            "text/html": [
              "\n",
              "    <div>\n",
              "      \n",
              "      <progress value='2215' max='2215' style='width:300px; height:20px; vertical-align: middle;'></progress>\n",
              "      [2215/2215 12:13, Epoch 1/1]\n",
              "    </div>\n",
              "    <table border=\"1\" class=\"dataframe\">\n",
              "  <thead>\n",
              " <tr style=\"text-align: left;\">\n",
              "      <th>Step</th>\n",
              "      <th>Training Loss</th>\n",
              "      <th>Validation Loss</th>\n",
              "    </tr>\n",
              "  </thead>\n",
              "  <tbody>\n",
              "    <tr>\n",
              "      <td>500</td>\n",
              "      <td>0.909700</td>\n",
              "      <td>0.663491</td>\n",
              "    </tr>\n",
              "    <tr>\n",
              "      <td>1000</td>\n",
              "      <td>0.881700</td>\n",
              "      <td>0.662639</td>\n",
              "    </tr>\n",
              "    <tr>\n",
              "      <td>1500</td>\n",
              "      <td>0.879300</td>\n",
              "      <td>0.660881</td>\n",
              "    </tr>\n",
              "    <tr>\n",
              "      <td>2000</td>\n",
              "      <td>0.884800</td>\n",
              "      <td>0.660501</td>\n",
              "    </tr>\n",
              "  </tbody>\n",
              "</table><p>"
            ]
          },
          "metadata": {}
        },
        {
          "output_type": "stream",
          "name": "stderr",
          "text": [
            "There were missing keys in the checkpoint model loaded: ['encoder.embed_tokens.weight', 'decoder.embed_tokens.weight'].\n"
          ]
        },
        {
          "output_type": "execute_result",
          "data": {
            "text/plain": [
              "TrainOutput(global_step=2215, training_loss=0.8871912833530262, metrics={'train_runtime': 736.6293, 'train_samples_per_second': 48.092, 'train_steps_per_second': 3.007, 'total_flos': 1215591018098688.0, 'train_loss': 0.8871912833530262, 'epoch': 1.0})"
            ]
          },
          "metadata": {},
          "execution_count": 60
        }
      ]
    },
    {
      "cell_type": "code",
      "source": [
        "# REFERENCE Run the training\n",
        "trainer.train()"
      ],
      "metadata": {
        "colab": {
          "base_uri": "https://localhost:8080/",
          "height": 290
        },
        "id": "7mw7xsk6zvJY",
        "outputId": "dbe6d98f-f47a-4dbd-8505-927d1712c1df"
      },
      "execution_count": null,
      "outputs": [
        {
          "output_type": "display_data",
          "data": {
            "text/plain": [
              "<IPython.core.display.HTML object>"
            ],
            "text/html": [
              "\n",
              "    <div>\n",
              "      \n",
              "      <progress value='2215' max='2215' style='width:300px; height:20px; vertical-align: middle;'></progress>\n",
              "      [2215/2215 10:15, Epoch 1/1]\n",
              "    </div>\n",
              "    <table border=\"1\" class=\"dataframe\">\n",
              "  <thead>\n",
              " <tr style=\"text-align: left;\">\n",
              "      <th>Step</th>\n",
              "      <th>Training Loss</th>\n",
              "      <th>Validation Loss</th>\n",
              "    </tr>\n",
              "  </thead>\n",
              "  <tbody>\n",
              "    <tr>\n",
              "      <td>500</td>\n",
              "      <td>1.909700</td>\n",
              "      <td>1.370177</td>\n",
              "    </tr>\n",
              "    <tr>\n",
              "      <td>1000</td>\n",
              "      <td>1.633000</td>\n",
              "      <td>1.288876</td>\n",
              "    </tr>\n",
              "    <tr>\n",
              "      <td>1500</td>\n",
              "      <td>1.578700</td>\n",
              "      <td>1.261280</td>\n",
              "    </tr>\n",
              "    <tr>\n",
              "      <td>2000</td>\n",
              "      <td>1.563900</td>\n",
              "      <td>1.255021</td>\n",
              "    </tr>\n",
              "  </tbody>\n",
              "</table><p>"
            ]
          },
          "metadata": {}
        },
        {
          "output_type": "stream",
          "name": "stderr",
          "text": [
            "There were missing keys in the checkpoint model loaded: ['encoder.embed_tokens.weight', 'decoder.embed_tokens.weight', 'lm_head.weight'].\n"
          ]
        },
        {
          "output_type": "execute_result",
          "data": {
            "text/plain": [
              "TrainOutput(global_step=2215, training_loss=1.6599478211413656, metrics={'train_runtime': 616.4609, 'train_samples_per_second': 57.467, 'train_steps_per_second': 3.593, 'total_flos': 864348255485952.0, 'train_loss': 1.6599478211413656, 'epoch': 1.0})"
            ]
          },
          "metadata": {},
          "execution_count": 31
        }
      ]
    },
    {
      "cell_type": "code",
      "source": [
        "trainer.model.save_pretrained('t5-small-webnlg')\n",
        "generator.tokenizer.save_pretrained('t5-small-webnlg')"
      ],
      "metadata": {
        "colab": {
          "base_uri": "https://localhost:8080/"
        },
        "id": "Uz-2N1Un5mwK",
        "outputId": "c75f717d-f868-4dee-cfb6-9f6a1cd5c25b"
      },
      "execution_count": 73,
      "outputs": [
        {
          "output_type": "execute_result",
          "data": {
            "text/plain": [
              "('t5-small-webnlg/tokenizer_config.json',\n",
              " 't5-small-webnlg/special_tokens_map.json',\n",
              " 't5-small-webnlg/spiece.model',\n",
              " 't5-small-webnlg/added_tokens.json',\n",
              " 't5-small-webnlg/tokenizer.json')"
            ]
          },
          "metadata": {},
          "execution_count": 73
        }
      ]
    },
    {
      "cell_type": "markdown",
      "source": [
        "# Inference\n",
        "\n",
        "For fast inference with T5 and other Encoder-Deccoder models we will use ctranslate2 which is around 3 times faster than a Hugging Face pipeline.\n",
        "\n",
        "For Decoder only models like GPT or Llama it is best to use vLLM which is even faster."
      ],
      "metadata": {
        "id": "yTUkmkAN52Y4"
      }
    },
    {
      "cell_type": "code",
      "source": [
        "# Convert the model to ctranslate format\n",
        "! ct2-transformers-converter --model t5-small-webnlg --output_dir t5-small-webnlg-ct2"
      ],
      "metadata": {
        "colab": {
          "base_uri": "https://localhost:8080/"
        },
        "id": "42qHNV-Q6zY_",
        "outputId": "ca20934a-2eed-49ab-ff72-8616269a7083"
      },
      "execution_count": 74,
      "outputs": [
        {
          "output_type": "stream",
          "name": "stdout",
          "text": [
            "2025-09-15 10:07:19.740342: E external/local_xla/xla/stream_executor/cuda/cuda_fft.cc:467] Unable to register cuFFT factory: Attempting to register factory for plugin cuFFT when one has already been registered\n",
            "WARNING: All log messages before absl::InitializeLog() is called are written to STDERR\n",
            "E0000 00:00:1757930839.761629   24929 cuda_dnn.cc:8579] Unable to register cuDNN factory: Attempting to register factory for plugin cuDNN when one has already been registered\n",
            "E0000 00:00:1757930839.767740   24929 cuda_blas.cc:1407] Unable to register cuBLAS factory: Attempting to register factory for plugin cuBLAS when one has already been registered\n",
            "W0000 00:00:1757930839.784717   24929 computation_placer.cc:177] computation placer already registered. Please check linkage and avoid linking the same target more than once.\n",
            "W0000 00:00:1757930839.784750   24929 computation_placer.cc:177] computation placer already registered. Please check linkage and avoid linking the same target more than once.\n",
            "W0000 00:00:1757930839.784758   24929 computation_placer.cc:177] computation placer already registered. Please check linkage and avoid linking the same target more than once.\n",
            "W0000 00:00:1757930839.784765   24929 computation_placer.cc:177] computation placer already registered. Please check linkage and avoid linking the same target more than once.\n",
            "`torch_dtype` is deprecated! Use `dtype` instead!\n",
            "`torch_dtype` is deprecated! Use `dtype` instead!\n"
          ]
        }
      ]
    },
    {
      "cell_type": "code",
      "source": [
        "# Instantiate model as ctranslate Translator and instantiate TOkenizer\n",
        "translator = ctranslate2.Translator(\n",
        "    't5-small-webnlg-ct2',\n",
        "    device='cuda',\n",
        ")\n",
        "tokenizer = AutoTokenizer.from_pretrained('t5-small-webnlg')"
      ],
      "metadata": {
        "id": "Eoggs1SF70GG"
      },
      "execution_count": 75,
      "outputs": []
    },
    {
      "cell_type": "markdown",
      "source": [
        "Ctranslate takes string tokens as input and output, so we need to define some functions to process the data."
      ],
      "metadata": {
        "id": "c8DhmFSy8b_n"
      }
    },
    {
      "cell_type": "code",
      "source": [
        "# Define function to pre process inputs\n",
        "# Hint: look into the tokenizer documentation\n",
        "# including methods like \"encode\" and \"convert_ids_to_tokens\"\n",
        "\n",
        "def pre_process(text):\n",
        "    '''\n",
        "    Turns a text into a list of string tokens.\n",
        "\n",
        "    Parameters:\n",
        "    text (str): an input text.\n",
        "\n",
        "    Returns:\n",
        "    input_tokens (List[str]): a list of string tokens.\n",
        "    '''\n",
        "\n",
        "    token_ids = tokenizer.encode(text, add_special_tokens=True)\n",
        "\n",
        "    # Convert IDs back to string tokens\n",
        "    input_tokens = tokenizer.convert_ids_to_tokens(token_ids)\n",
        "\n",
        "    return input_tokens"
      ],
      "metadata": {
        "id": "lG6Gx9v76D9x"
      },
      "execution_count": 76,
      "outputs": []
    },
    {
      "cell_type": "code",
      "source": [
        "# Define function to post process inputs\n",
        "# Hint: look into the tokenizer documentation\n",
        "# including methods like \"convert_tokens_to_ids\" and \"decode\"\n",
        "def post_process(output_tokens):\n",
        "    '''\n",
        "    Turns a list of string tokens into a single string.\n",
        "\n",
        "    Parameters:\n",
        "    output_tokens (List[str]): an output list of tokens.\n",
        "\n",
        "    Returns:\n",
        "    output_text (str): an output string.\n",
        "    '''\n",
        "\n",
        "    # Your code here\n",
        "    token_ids = tokenizer.convert_tokens_to_ids(output_tokens)\n",
        "\n",
        "    # Decode IDs to string\n",
        "    output_text = tokenizer.decode(token_ids, skip_special_tokens=True)\n",
        "\n",
        "    return output_text"
      ],
      "metadata": {
        "id": "y-OsSFIF81Qh"
      },
      "execution_count": 77,
      "outputs": []
    },
    {
      "cell_type": "markdown",
      "source": [
        "Then, we can generate the entire test set with our fine-tuned mode."
      ],
      "metadata": {
        "id": "0vLIUUJn8kzG"
      }
    },
    {
      "cell_type": "code",
      "source": [
        "dataset = [pre_process(text) for text in tqdm(processed_ds['test']['input'])]\n",
        "batch_size = 32\n",
        "\n",
        "generated_texts = []\n",
        "for i in tqdm(range(0, len(dataset), batch_size)):\n",
        "    batch = dataset[i : i + batch_size]\n",
        "    output = translator.translate_batch(batch, max_batch_size=batch_size)\n",
        "    generated_texts += [post_process(o.hypotheses[0]) for o in output]"
      ],
      "metadata": {
        "colab": {
          "base_uri": "https://localhost:8080/",
          "height": 81,
          "referenced_widgets": [
            "86cfa04a71b34b398e7223bdbbf6068e",
            "9eb1a0522c794dd4b264d454aeed37b5",
            "47e2a748dcc9401684fc81bd70d81194",
            "a8128d1d68dc43649847404819362c92",
            "68ef16a46fe34c69aadeb23c616821d8",
            "8aeff2df1b134651850bcbe0bbe12302",
            "d56e60b141e2432cb90bc89b5c0b4086",
            "3a47b426836b452e840c8e1b61dc7bad",
            "6c51ca40a02845738fecabe0e437fad6",
            "4b72b077be4946379a38ee459496985d",
            "0f3ca495cd204f48a7717d2eaddc663d",
            "246caa1dab0f4c90b39cef75058c1cae",
            "59a8ab753f104dcb813d0106098432d2",
            "5817d9c3c83844f6ab8dd3a4e6222a74",
            "e24ab3019a8347919b422adb63c8a26a",
            "60f5e846d44c43518514f67067f43965",
            "b24171ec4a4c49029080eda5a8d9e77d",
            "d7ca1349901040819b3dce73921213a2",
            "bd96e63a7c8740b698acaedcc11ffc41",
            "677ddadfd864490ba4c522c30915f176",
            "8791c577fe754d6f98a012c5f877782e",
            "ae162a57ed944438a6ad33b8bf3e4ef2"
          ]
        },
        "id": "bpZtGOV_tb9h",
        "outputId": "54da4fb2-8e6f-4c91-d8c1-c9365412efa6"
      },
      "execution_count": 78,
      "outputs": [
        {
          "output_type": "display_data",
          "data": {
            "text/plain": [
              "  0%|          | 0/5713 [00:00<?, ?it/s]"
            ],
            "application/vnd.jupyter.widget-view+json": {
              "version_major": 2,
              "version_minor": 0,
              "model_id": "86cfa04a71b34b398e7223bdbbf6068e"
            }
          },
          "metadata": {}
        },
        {
          "output_type": "display_data",
          "data": {
            "text/plain": [
              "  0%|          | 0/179 [00:00<?, ?it/s]"
            ],
            "application/vnd.jupyter.widget-view+json": {
              "version_major": 2,
              "version_minor": 0,
              "model_id": "246caa1dab0f4c90b39cef75058c1cae"
            }
          },
          "metadata": {}
        }
      ]
    },
    {
      "cell_type": "code",
      "source": [
        "final_data = processed_ds['test'].add_column('t5-small-webnlg', generated_texts)\n",
        "final_data[0]"
      ],
      "metadata": {
        "colab": {
          "base_uri": "https://localhost:8080/"
        },
        "id": "l_lsM75Z3TVc",
        "outputId": "7fbb1eff-5f37-4d60-8754-9b2adc4db9b1"
      },
      "execution_count": 79,
      "outputs": [
        {
          "output_type": "execute_result",
          "data": {
            "text/plain": [
              "{'input': 'Estádio Municipal Coaracy da Mata Fonseca, location, Arapiraca; Agremiação Sportiva Arapiraquense, league, Campeonato Brasileiro Série C; Campeonato Brasileiro Série C, country, Brazil; Agremiação Sportiva Arapiraquense, nickname, \"\\'\\'Alvinegro\"; Agremiação Sportiva Arapiraquense, ground, Estádio Municipal Coaracy da Mata Fonseca',\n",
              " 'references': ['Estádio Municipal Coaracy da Mata Fonseca is the name of the ground of Agremiação Sportiva Arapiraquense in Arapiraca. Agremiação Sportiva Arapiraquense, nicknamed \"Alvinegro\", lay in the Campeonato Brasileiro Série C league from Brazil.',\n",
              "  'Estádio Municipal Coaracy da Mata Fonseca is the name of the ground of Agremiação Sportiva Arapiraquense in Arapiraca. Alvinegro, the nickname of Agremiação Sportiva Arapiraquense, play in the Campeonato Brasileiro Série C league from Brazil.'],\n",
              " 't5-small-webnlg': 'Agremiaço Sportiva Arapiraquense play in the Campeonato Brasileiro Série C league in Brazil and play in the Campeonato Brasileiro Série C league. The nickname of Alvinegro is Alvinegro.'}"
            ]
          },
          "metadata": {},
          "execution_count": 79
        }
      ]
    },
    {
      "cell_type": "code",
      "source": [
        "final_data[100]"
      ],
      "metadata": {
        "colab": {
          "base_uri": "https://localhost:8080/"
        },
        "id": "ilSkgTlW3-Sd",
        "outputId": "271c8c3a-637f-4ace-c24a-ab041993dfcc"
      },
      "execution_count": 81,
      "outputs": [
        {
          "output_type": "execute_result",
          "data": {
            "text/plain": [
              "{'input': 'Olga Bondareva, knownFor, Bondareva–Shapley theorem; Olga Bondareva, birthName, \"Olga Nikolaevna Bondareva\"; Olga Bondareva, almaMater, Leningrad State University',\n",
              " 'references': ['Olga Bondareva, born \"Olga Nikolaevna Bondareva\" and a student of Leningrad State University, was known for the Bondareva-Shapley theorem.',\n",
              "  'Olga Bondareva is known for the Bondareva-Shapley theorem, described by Olga Nikolaevna Bondareva in Leningrad State University.',\n",
              "  'Olga Bondareva, birth name Olga Nikolaevna Bondareva, graduated from Leningrad State University. She is known for the Bondareva-Shapley theorem.'],\n",
              " 't5-small-webnlg': 'Olga Bondareva, born Olga Nikolaevna Bondareva, graduated from Leningrad State University and is known for the Bondareva–Shapley theorem.'}"
            ]
          },
          "metadata": {},
          "execution_count": 81
        }
      ]
    },
    {
      "cell_type": "code",
      "source": [
        "# reference\n",
        "final_data = processed_ds['test'].add_column('t5-small-webnlg', generated_texts)\n",
        "final_data[0]"
      ],
      "metadata": {
        "colab": {
          "base_uri": "https://localhost:8080/"
        },
        "id": "iIXked4G8tjA",
        "outputId": "61639ce6-6a01-4b54-b794-9da3fe540e0e"
      },
      "execution_count": null,
      "outputs": [
        {
          "output_type": "execute_result",
          "data": {
            "text/plain": [
              "{'input': 'Estádio Municipal Coaracy da Mata Fonseca, location, Arapiraca; Agremiação Sportiva Arapiraquense, league, Campeonato Brasileiro Série C; Campeonato Brasileiro Série C, country, Brazil; Agremiação Sportiva Arapiraquense, nickname, Alvinegro; Agremiação Sportiva Arapiraquense, ground, Estádio Municipal Coaracy da Mata Fonseca',\n",
              " 'references': ['Estádio Municipal Coaracy da Mata Fonseca is the name of the ground of Agremiação Sportiva Arapiraquense in Arapiraca. Agremiação Sportiva Arapiraquense, nicknamed \"Alvinegro\", lay in the Campeonato Brasileiro Série C league from Brazil.',\n",
              "  'Estádio Municipal Coaracy da Mata Fonseca is the name of the ground of Agremiação Sportiva Arapiraquense in Arapiraca. Alvinegro, the nickname of Agremiação Sportiva Arapiraquense, play in the Campeonato Brasileiro Série C league from Brazil.'],\n",
              " 't5-small-webnlg': 'Arapiraca is the ground of the Estádio Municipal Coaracy da Mata Fonseca. It is located in the country of Brazil.'}"
            ]
          },
          "metadata": {},
          "execution_count": 52
        }
      ]
    },
    {
      "cell_type": "code",
      "source": [
        "# Save the generated data\n",
        "final_data.to_json('t5-small-weblg-generations.json')"
      ],
      "metadata": {
        "colab": {
          "base_uri": "https://localhost:8080/",
          "height": 66,
          "referenced_widgets": [
            "1b4395fdeb414a22a813c3ecb0404b9f",
            "899f5333d61b4596b2779ab2f63d019a",
            "88b08d8ea0a748f8ab1955624617047e",
            "9415c008b88741229838a4a8bde0c02d",
            "f06b6316259a4833bb54a86b2c180072",
            "b5195bbee50e484baeb0fe455526461e",
            "1c44025cf4104037a090a374ca2fd6aa",
            "f4ea60ffc0634600b218c0a3ec61594d",
            "06bf8de7fd4747a1a8b3ac99320ed33a",
            "2f07712b6aa444c99b801b9760de8c12",
            "15e8e0ab426d4ff8a7929c97aff66453"
          ]
        },
        "id": "kEc7MdZObjNo",
        "outputId": "8da2d14e-6185-4b84-c8da-a3a5c895df82"
      },
      "execution_count": 80,
      "outputs": [
        {
          "output_type": "display_data",
          "data": {
            "text/plain": [
              "Creating json from Arrow format:   0%|          | 0/6 [00:00<?, ?ba/s]"
            ],
            "application/vnd.jupyter.widget-view+json": {
              "version_major": 2,
              "version_minor": 0,
              "model_id": "1b4395fdeb414a22a813c3ecb0404b9f"
            }
          },
          "metadata": {}
        },
        {
          "output_type": "execute_result",
          "data": {
            "text/plain": [
              "2842332"
            ]
          },
          "metadata": {},
          "execution_count": 80
        }
      ]
    }
  ]
}